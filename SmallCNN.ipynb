{
 "cells": [
  {
   "cell_type": "code",
   "execution_count": 1,
   "metadata": {
    "pycharm": {
     "name": "#%%\n"
    }
   },
   "outputs": [],
   "source": [
    "from utils import utils,learner\n",
    "from utils import PlantPathologyDataset as dataset\n",
    "import torch\n",
    "import torch.nn as nn\n",
    "import torch.optim as optim\n",
    "from torch.utils.data import DataLoader\n",
    "import torchvision.models as models\n",
    "import numpy as np"
   ]
  },
  {
   "cell_type": "code",
   "execution_count": 2,
   "metadata": {
    "pycharm": {
     "name": "#%%\n"
    }
   },
   "outputs": [],
   "source": [
    "dtype = torch.FloatTensor\n",
    "fixed_model_base = nn.Sequential(\n",
    "    nn.Conv2d(3, 5, kernel_size=5, stride=1),\n",
    "    nn.ReLU(inplace=True),\n",
    "    nn.BatchNorm2d(5),\n",
    "    nn.MaxPool2d(2, stride=2),\n",
    "    learner.Flatten(),\n",
    "    nn.Linear(129690, 1024),\n",
    "    nn.ReLU(inplace=True),\n",
    "    nn.Linear(1024, 12),\n",
    ")\n",
    "\n",
    "fixed_model = fixed_model_base.type(dtype)\n",
    "resnet = models.resnet18(\n",
    "    True)\n",
    "\n",
    "loss_fn = nn.CrossEntropyLoss().type(dtype)\n",
    "optimizer = optim.SGD(resnet.parameters(), lr = 0.1)\n",
    "#"
   ]
  },
  {
   "cell_type": "code",
   "execution_count": 3,
   "outputs": [],
   "source": [
    "def subtractMeanImage(sample):\n",
    "    mean = np.load(\"meanImage.npy\",allow_pickle=True)\n",
    "    mean = (mean*.7)\n",
    "    x = sample[0]\n",
    "    image =  x - mean\n",
    "    sample = (image,sample[1])\n",
    "    return sample"
   ],
   "metadata": {
    "collapsed": false,
    "pycharm": {
     "name": "#%%\n"
    }
   }
  },
  {
   "cell_type": "code",
   "execution_count": null,
   "metadata": {
    "pycharm": {
     "name": "#%%\n",
     "is_executing": true
    }
   },
   "outputs": [
    {
     "name": "stdout",
     "output_type": "stream",
     "text": [
      "Starting epoch 1 / 1\n",
      "torch.Size([5, 3, 267, 400]) tensor([ 3, 11,  9,  9,  0])\n"
     ]
    }
   ],
   "source": [
    "thomas = False\n",
    "if thomas:\n",
    "    csv_file='C:\\\\Users\\\\tjtom\\PycharmProjects\\PlantPathology2021\\\\train.csv'\n",
    "    root_dir='C:\\\\Users\\\\tjtom\\PycharmProjects\\PlantPathology2021\\\\train_images'\n",
    "    mappings_dir='C:\\\\Users\\\\tjtom\\PycharmProjects\\PlantPathology2021\\\\labelMappings.csv'\n",
    "else:\n",
    "    csv_file='./train.csv'\n",
    "    root_dir='./train_images'\n",
    "    mappings_dir='./labelMappings.csv'\n",
    "plant_dataset = dataset.PlantPathologyDataset(csv_file=csv_file,\n",
    "                                              root_dir=root_dir,\n",
    "                                              mappings_dir=mappings_dir,\n",
    "                                              transform=subtractMeanImage)\n",
    "train_data = DataLoader(plant_dataset, batch_size=5, sampler= learner.ChunkSampler(10, 0))\n",
    "validation_data = DataLoader(plant_dataset, batch_size=5, sampler=learner.ChunkSampler(10, 750))\n",
    "learner.train(resnet,train_data,loss_fn,optimizer,num_epochs=1, print_every=5)\n",
    "acc,preds = learner.check_accuracy(resnet, validation_data)"
   ]
  },
  {
   "cell_type": "code",
   "execution_count": 5,
   "outputs": [
    {
     "name": "stdout",
     "output_type": "stream",
     "text": [
      "Checking accuracy on validation set\n",
      "Got 2 / 5 correct (40.00)\n",
      "tensor([9, 0, 0, 0, 0])\n"
     ]
    }
   ],
   "source": [
    "acc,preds = learner.check_accuracy(resnet, validation_data)\n",
    "\n",
    "print(preds)"
   ],
   "metadata": {
    "collapsed": false,
    "pycharm": {
     "name": "#%%\n"
    }
   }
  }
 ],
 "metadata": {
  "kernelspec": {
   "display_name": "Python 3",
   "language": "python",
   "name": "python3"
  },
  "language_info": {
   "codemirror_mode": {
    "name": "ipython",
    "version": 3
   },
   "file_extension": ".py",
   "mimetype": "text/x-python",
   "name": "python",
   "nbconvert_exporter": "python",
   "pygments_lexer": "ipython3",
   "version": "3.8.5"
  }
 },
 "nbformat": 4,
 "nbformat_minor": 1
}