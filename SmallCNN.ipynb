{
 "cells": [
  {
   "cell_type": "code",
   "execution_count": 1,
   "metadata": {
    "pycharm": {
     "name": "#%%\n"
    }
   },
   "outputs": [],
   "source": [
    "from utils import utils,learner\n",
    "from utils import PlantPathologyDataset as dataset\n",
    "import torch\n",
    "import torch.nn as nn\n",
    "import torch.optim as optim\n",
    "from torch.utils.data import DataLoader"
   ]
  },
  {
   "cell_type": "code",
   "execution_count": 2,
   "metadata": {
    "pycharm": {
     "name": "#%%\n"
    }
   },
   "outputs": [],
   "source": [
    "dtype = torch.FloatTensor\n",
    "fixed_model_base = nn.Sequential(\n",
    "    nn.Conv2d(3, 5, kernel_size=7, stride=1),\n",
    "    nn.ReLU(inplace=True),\n",
    "    nn.BatchNorm2d(5),\n",
    "    nn.MaxPool2d(2, stride=2),\n",
    "    learner.Flatten(),\n",
    "    nn.Linear(128050, 1024),\n",
    "    nn.ReLU(inplace=True),\n",
    "    nn.Linear(1024, 12),\n",
    ")\n",
    "\n",
    "fixed_model = fixed_model_base.type(dtype)\n",
    "\n",
    "loss_fn = nn.CrossEntropyLoss().type(dtype)\n",
    "optimizer = optim.Adadelta(fixed_model_base.parameters(), lr = 0.05)\n",
    "#"
   ]
  },
  {
   "cell_type": "code",
   "execution_count": 3,
   "metadata": {
    "pycharm": {
     "name": "#%%\n"
    }
   },
   "outputs": [
    {
     "name": "stdout",
     "output_type": "stream",
     "text": [
      "Starting epoch 1 / 1\n",
      "torch.Size([10, 3, 400, 267]) tensor([ 3, 11,  9,  9,  0,  3,  6,  3,  0,  3])\n",
      "torch.Size([10, 3, 400, 267]) tensor([0, 9, 3, 9, 1, 9, 9, 9, 3, 9])\n",
      "torch.Size([10, 3, 400, 267]) tensor([4, 6, 9, 9, 3, 9, 6, 3, 0, 9])\n",
      "torch.Size([10, 3, 400, 267]) tensor([3, 1, 9, 6, 9, 3, 3, 0, 0, 4])\n",
      "torch.Size([10, 3, 400, 267]) tensor([ 3,  9, 11,  1,  4,  9,  3,  1,  1,  4])\n",
      "t = 5, loss = 12.4733\n",
      "torch.Size([10, 3, 400, 267]) tensor([10,  9,  3,  9,  6,  1,  1,  0,  3,  1])\n",
      "torch.Size([10, 3, 400, 267]) tensor([9, 9, 2, 3, 1, 9, 1, 6, 4, 9])\n",
      "torch.Size([5, 3, 400, 267]) tensor([9, 6, 9, 0, 9])\n",
      "Checking accuracy on validation set\n",
      "Got 1 / 25 correct (4.00)\n"
     ]
    },
    {
     "data": {
      "text/plain": "0.04"
     },
     "execution_count": 3,
     "metadata": {},
     "output_type": "execute_result"
    }
   ],
   "source": [
    "plant_dataset = dataset.PlantPathologyDataset(csv_file='C:\\\\Users\\\\tjtom\\PycharmProjects\\PlantPathology2021\\\\train.csv',\n",
    "                                              root_dir='C:\\\\Users\\\\tjtom\\PycharmProjects\\PlantPathology2021\\\\train_images',\n",
    "                                              mappings_dir='C:\\\\Users\\\\tjtom\\PycharmProjects\\PlantPathology2021\\\\labelMappings.csv')\n",
    "train_data = DataLoader(plant_dataset, batch_size=10, sampler= learner.ChunkSampler(75, 0))\n",
    "validation_data = DataLoader(plant_dataset, batch_size=10, sampler=learner.ChunkSampler(25, 75))\n",
    "learner.train(fixed_model_base,train_data,loss_fn,optimizer,print_every=5)\n",
    "learner.check_accuracy(fixed_model_base, validation_data)"
   ]
  }
 ],
 "metadata": {
  "kernelspec": {
   "display_name": "Python 3",
   "language": "python",
   "name": "python3"
  },
  "language_info": {
   "codemirror_mode": {
    "name": "ipython",
    "version": 3
   },
   "file_extension": ".py",
   "mimetype": "text/x-python",
   "name": "python",
   "nbconvert_exporter": "python",
   "pygments_lexer": "ipython3",
   "version": "3.8.5"
  }
 },
 "nbformat": 4,
 "nbformat_minor": 1
}