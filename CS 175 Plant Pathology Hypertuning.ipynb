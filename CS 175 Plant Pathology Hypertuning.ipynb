{
 "cells": [
  {
   "cell_type": "markdown",
   "id": "cardiovascular-london",
   "metadata": {},
   "source": [
    "# Plant Pathology Hypertuning"
   ]
  },
  {
   "cell_type": "markdown",
   "id": "massive-corporation",
   "metadata": {},
   "source": [
    "### Setup"
   ]
  },
  {
   "cell_type": "code",
   "execution_count": 1,
   "id": "acknowledged-slave",
   "metadata": {},
   "outputs": [
    {
     "output_type": "stream",
     "name": "stderr",
     "text": [
      "/home/braedon/.local/lib/python3.8/site-packages/skimage/io/manage_plugins.py:23: UserWarning: Your installed pillow version is < 7.1.0. Several security issues (CVE-2020-11538, CVE-2020-10379, CVE-2020-10994, CVE-2020-10177) have been fixed in pillow 7.1.0 or higher. We recommend to upgrade this library.\n  from .collection import imread_collection_wrapper\n"
     ]
    }
   ],
   "source": [
    "import torch\n",
    "import torch.nn as nn\n",
    "import torch.optim as optim\n",
    "import torchvision.models as models\n",
    "from torch.autograd import Variable\n",
    "from torch.utils.data import DataLoader\n",
    "from torch.utils.data import sampler\n",
    "\n",
    "# import torchvision.datasets as dset\n",
    "import torchvision.transforms as T\n",
    "\n",
    "import numpy as np\n",
    "\n",
    "import timeit\n",
    "import copy\n",
    "\n",
    "from utils import utils, learner\n",
    "from utils import PlantPathologyDataset as dataset\n",
    "\n",
    "from ray import tune\n",
    "from ray.tune import CLIReporter\n",
    "from ray.tune.schedulers import ASHAScheduler"
   ]
  },
  {
   "cell_type": "code",
   "execution_count": 2,
   "id": "consecutive-spanish",
   "metadata": {},
   "outputs": [],
   "source": [
    "NUM_TRAIN = 75\n",
    "NUM_VAL = 25\n",
    "users = ('braedon', 'thomas', 'shangyi')\n",
    "user = users[0]\n",
    "\n",
    "# Needs to be the full path because of raytune\n",
    "if user == users[1]:\n",
    "    csv_file='C:\\\\Users\\\\tjtom\\PycharmProjects\\PlantPathology2021\\\\train.csv'\n",
    "    root_dir='C:\\\\Users\\\\tjtom\\PycharmProjects\\PlantPathology2021\\\\train_images'\n",
    "    mappings_dir='C:\\\\Users\\\\tjtom\\PycharmProjects\\PlantPathology2021\\\\labelMappings.csv'\n",
    "elif user == users[0]:\n",
    "    csv_file='/home/braedon/skole/cs175/PlantPathology2021/train.csv'\n",
    "    root_dir='/home/braedon/skole/cs175/PlantPathology2021/train_images'\n",
    "    mappings_dir='/home/braedon/skole/cs175/PlantPathology2021/labelMappings.csv'\n",
    "\n",
    "plant_dataset = dataset.PlantPathologyDataset(csv_file=csv_file,\n",
    "                                              root_dir=root_dir,\n",
    "                                              mappings_dir=mappings_dir)\n",
    "train_data = DataLoader(plant_dataset, batch_size=10, sampler= learner.ChunkSampler(NUM_TRAIN, 0))\n",
    "validation_data = DataLoader(plant_dataset, batch_size=10, sampler=learner.ChunkSampler(NUM_VAL, NUM_TRAIN))"
   ]
  },
  {
   "cell_type": "code",
   "execution_count": 3,
   "metadata": {},
   "outputs": [
    {
     "output_type": "stream",
     "name": "stdout",
     "text": [
      "Using GPU\n"
     ]
    }
   ],
   "source": [
    "# Use GPU if available\n",
    "if torch.cuda.is_available():\n",
    "    print('Using GPU')\n",
    "    dtype = torch.cuda.FloatTensor\n",
    "    resources_per_trial = {'gpu': 1}\n",
    "else:\n",
    "    print('Using CPU')\n",
    "    dtype = torch.FloatTensor\n",
    "    resources_per_trial = {'cpu': 1}"
   ]
  },
  {
   "cell_type": "markdown",
   "id": "demanding-accused",
   "metadata": {},
   "source": [
    "### Testing resnet50"
   ]
  },
  {
   "cell_type": "code",
   "execution_count": 26,
   "id": "textile-stylus",
   "metadata": {},
   "outputs": [
    {
     "output_type": "stream",
     "name": "stdout",
     "text": [
      "Using GPU\n"
     ]
    }
   ],
   "source": [
    "# Use GPU if available\n",
    "if torch.cuda.is_available():\n",
    "    resnet50 = models.resnet50().cuda() # pretrained=True is pretrained on ImageNet\n",
    "else:\n",
    "    resnet50 = models.resnet50()\n",
    "\n",
    "loss_fn = nn.CrossEntropyLoss().type(dtype)\n",
    "optimizer = optim.RMSprop(resnet50.parameters(), lr=1e-3)"
   ]
  },
  {
   "cell_type": "code",
   "execution_count": 19,
   "id": "precious-raleigh",
   "metadata": {},
   "outputs": [
    {
     "output_type": "stream",
     "name": "stdout",
     "text": [
      "Starting epoch 1 / 1\n",
      "2021-05-14 15:05:02,489\tWARNING worker.py:1115 -- A worker died or was killed while executing task fffffffffffffffff9492f7d4957197356fc469c01000000.\n",
      "torch.Size([10, 3, 400, 267]) tensor([ 3, 11,  9,  9,  0,  3,  6,  3,  0,  3])\n",
      "torch.Size([10, 3, 400, 267]) tensor([0, 9, 3, 9, 1, 9, 9, 9, 3, 9])\n",
      "torch.Size([10, 3, 400, 267]) tensor([4, 6, 9, 9, 3, 9, 6, 3, 0, 9])\n",
      "torch.Size([10, 3, 400, 267]) tensor([3, 1, 9, 6, 9, 3, 3, 0, 0, 4])\n",
      "torch.Size([10, 3, 400, 267]) tensor([ 3,  9, 11,  1,  4,  9,  3,  1,  1,  4])\n",
      "t = 5, loss = 2.4781\n",
      "torch.Size([10, 3, 400, 267]) tensor([10,  9,  3,  9,  6,  1,  1,  0,  3,  1])\n",
      "torch.Size([10, 3, 400, 267]) tensor([9, 9, 2, 3, 1, 9, 1, 6, 4, 9])\n",
      "torch.Size([5, 3, 400, 267]) tensor([9, 6, 9, 0, 9])\n",
      "Checking accuracy on validation set\n",
      "Got 8 / 25 correct (32.00)\n",
      "Starting epoch 1 / 1\n",
      "torch.Size([10, 3, 400, 267]) tensor([ 3, 11,  9,  9,  0,  3,  6,  3,  0,  3])\n",
      "torch.Size([10, 3, 400, 267]) tensor([0, 9, 3, 9, 1, 9, 9, 9, 3, 9])\n",
      "torch.Size([10, 3, 400, 267]) tensor([4, 6, 9, 9, 3, 9, 6, 3, 0, 9])\n",
      "torch.Size([10, 3, 400, 267]) tensor([3, 1, 9, 6, 9, 3, 3, 0, 0, 4])\n",
      "torch.Size([10, 3, 400, 267]) tensor([ 3,  9, 11,  1,  4,  9,  3,  1,  1,  4])\n",
      "t = 5, loss = 2.3116\n",
      "torch.Size([10, 3, 400, 267]) tensor([10,  9,  3,  9,  6,  1,  1,  0,  3,  1])\n",
      "torch.Size([10, 3, 400, 267]) tensor([9, 9, 2, 3, 1, 9, 1, 6, 4, 9])\n",
      "torch.Size([5, 3, 400, 267]) tensor([9, 6, 9, 0, 9])\n",
      "Checking accuracy on validation set\n",
      "Got 9 / 25 correct (36.00)\n",
      "Starting epoch 1 / 1\n",
      "torch.Size([10, 3, 400, 267]) tensor([ 3, 11,  9,  9,  0,  3,  6,  3,  0,  3])\n",
      "torch.Size([10, 3, 400, 267]) tensor([0, 9, 3, 9, 1, 9, 9, 9, 3, 9])\n",
      "torch.Size([10, 3, 400, 267]) tensor([4, 6, 9, 9, 3, 9, 6, 3, 0, 9])\n",
      "torch.Size([10, 3, 400, 267]) tensor([3, 1, 9, 6, 9, 3, 3, 0, 0, 4])\n",
      "torch.Size([10, 3, 400, 267]) tensor([ 3,  9, 11,  1,  4,  9,  3,  1,  1,  4])\n",
      "t = 5, loss = 1.9655\n",
      "torch.Size([10, 3, 400, 267]) tensor([10,  9,  3,  9,  6,  1,  1,  0,  3,  1])\n",
      "torch.Size([10, 3, 400, 267]) tensor([9, 9, 2, 3, 1, 9, 1, 6, 4, 9])\n",
      "torch.Size([5, 3, 400, 267]) tensor([9, 6, 9, 0, 9])\n",
      "Checking accuracy on validation set\n",
      "Got 6 / 25 correct (24.00)\n",
      "Starting epoch 1 / 1\n",
      "torch.Size([10, 3, 400, 267]) tensor([ 3, 11,  9,  9,  0,  3,  6,  3,  0,  3])\n",
      "torch.Size([10, 3, 400, 267]) tensor([0, 9, 3, 9, 1, 9, 9, 9, 3, 9])\n",
      "torch.Size([10, 3, 400, 267]) tensor([4, 6, 9, 9, 3, 9, 6, 3, 0, 9])\n",
      "torch.Size([10, 3, 400, 267]) tensor([3, 1, 9, 6, 9, 3, 3, 0, 0, 4])\n",
      "torch.Size([10, 3, 400, 267]) tensor([ 3,  9, 11,  1,  4,  9,  3,  1,  1,  4])\n",
      "t = 5, loss = 2.0939\n",
      "torch.Size([10, 3, 400, 267]) tensor([10,  9,  3,  9,  6,  1,  1,  0,  3,  1])\n",
      "torch.Size([10, 3, 400, 267]) tensor([9, 9, 2, 3, 1, 9, 1, 6, 4, 9])\n",
      "torch.Size([5, 3, 400, 267]) tensor([9, 6, 9, 0, 9])\n",
      "Checking accuracy on validation set\n",
      "Got 6 / 25 correct (24.00)\n",
      "Starting epoch 1 / 1\n",
      "torch.Size([10, 3, 400, 267]) tensor([ 3, 11,  9,  9,  0,  3,  6,  3,  0,  3])\n",
      "torch.Size([10, 3, 400, 267]) tensor([0, 9, 3, 9, 1, 9, 9, 9, 3, 9])\n",
      "torch.Size([10, 3, 400, 267]) tensor([4, 6, 9, 9, 3, 9, 6, 3, 0, 9])\n",
      "torch.Size([10, 3, 400, 267]) tensor([3, 1, 9, 6, 9, 3, 3, 0, 0, 4])\n",
      "torch.Size([10, 3, 400, 267]) tensor([ 3,  9, 11,  1,  4,  9,  3,  1,  1,  4])\n",
      "t = 5, loss = 2.0682\n",
      "torch.Size([10, 3, 400, 267]) tensor([10,  9,  3,  9,  6,  1,  1,  0,  3,  1])\n",
      "torch.Size([10, 3, 400, 267]) tensor([9, 9, 2, 3, 1, 9, 1, 6, 4, 9])\n",
      "torch.Size([5, 3, 400, 267]) tensor([9, 6, 9, 0, 9])\n",
      "Checking accuracy on validation set\n",
      "Got 7 / 25 correct (28.00)\n",
      "Starting epoch 1 / 1\n",
      "torch.Size([10, 3, 400, 267]) tensor([ 3, 11,  9,  9,  0,  3,  6,  3,  0,  3])\n",
      "torch.Size([10, 3, 400, 267]) tensor([0, 9, 3, 9, 1, 9, 9, 9, 3, 9])\n",
      "torch.Size([10, 3, 400, 267]) tensor([4, 6, 9, 9, 3, 9, 6, 3, 0, 9])\n",
      "torch.Size([10, 3, 400, 267]) tensor([3, 1, 9, 6, 9, 3, 3, 0, 0, 4])\n",
      "torch.Size([10, 3, 400, 267]) tensor([ 3,  9, 11,  1,  4,  9,  3,  1,  1,  4])\n",
      "t = 5, loss = 1.7083\n",
      "torch.Size([10, 3, 400, 267]) tensor([10,  9,  3,  9,  6,  1,  1,  0,  3,  1])\n",
      "torch.Size([10, 3, 400, 267]) tensor([9, 9, 2, 3, 1, 9, 1, 6, 4, 9])\n",
      "torch.Size([5, 3, 400, 267]) tensor([9, 6, 9, 0, 9])\n",
      "Checking accuracy on validation set\n",
      "Got 8 / 25 correct (32.00)\n",
      "Starting epoch 1 / 1\n",
      "torch.Size([10, 3, 400, 267]) tensor([ 3, 11,  9,  9,  0,  3,  6,  3,  0,  3])\n",
      "torch.Size([10, 3, 400, 267]) tensor([0, 9, 3, 9, 1, 9, 9, 9, 3, 9])\n",
      "torch.Size([10, 3, 400, 267]) tensor([4, 6, 9, 9, 3, 9, 6, 3, 0, 9])\n",
      "torch.Size([10, 3, 400, 267]) tensor([3, 1, 9, 6, 9, 3, 3, 0, 0, 4])\n",
      "torch.Size([10, 3, 400, 267]) tensor([ 3,  9, 11,  1,  4,  9,  3,  1,  1,  4])\n",
      "t = 5, loss = 1.4737\n",
      "torch.Size([10, 3, 400, 267]) tensor([10,  9,  3,  9,  6,  1,  1,  0,  3,  1])\n",
      "torch.Size([10, 3, 400, 267]) tensor([9, 9, 2, 3, 1, 9, 1, 6, 4, 9])\n",
      "torch.Size([5, 3, 400, 267]) tensor([9, 6, 9, 0, 9])\n",
      "Checking accuracy on validation set\n",
      "Got 8 / 25 correct (32.00)\n",
      "Starting epoch 1 / 1\n",
      "torch.Size([10, 3, 400, 267]) tensor([ 3, 11,  9,  9,  0,  3,  6,  3,  0,  3])\n",
      "torch.Size([10, 3, 400, 267]) tensor([0, 9, 3, 9, 1, 9, 9, 9, 3, 9])\n",
      "torch.Size([10, 3, 400, 267]) tensor([4, 6, 9, 9, 3, 9, 6, 3, 0, 9])\n",
      "torch.Size([10, 3, 400, 267]) tensor([3, 1, 9, 6, 9, 3, 3, 0, 0, 4])\n",
      "torch.Size([10, 3, 400, 267]) tensor([ 3,  9, 11,  1,  4,  9,  3,  1,  1,  4])\n",
      "t = 5, loss = 1.3888\n",
      "torch.Size([10, 3, 400, 267]) tensor([10,  9,  3,  9,  6,  1,  1,  0,  3,  1])\n",
      "torch.Size([10, 3, 400, 267]) tensor([9, 9, 2, 3, 1, 9, 1, 6, 4, 9])\n",
      "torch.Size([5, 3, 400, 267]) tensor([9, 6, 9, 0, 9])\n",
      "Checking accuracy on validation set\n",
      "Got 7 / 25 correct (28.00)\n",
      "4min ± 1.06 s per loop (mean ± std. dev. of 7 runs, 1 loop each)\n"
     ]
    }
   ],
   "source": [
    "%%timeit\n",
    "torch.cuda.synchronize()\n",
    "learner.train(resnet50, train_data, loss_fn, optimizer, dtype, print_every=5)\n",
    "learner.check_accuracy(resnet50, validation_data, dtype)\n",
    "torch.cuda.synchronize()"
   ]
  },
  {
   "cell_type": "code",
   "execution_count": 20,
   "metadata": {},
   "outputs": [
    {
     "output_type": "stream",
     "name": "stdout",
     "text": [
      "Starting epoch 1 / 1\n",
      "torch.Size([10, 3, 400, 267]) tensor([ 3, 11,  9,  9,  0,  3,  6,  3,  0,  3])\n",
      "torch.Size([10, 3, 400, 267]) tensor([0, 9, 3, 9, 1, 9, 9, 9, 3, 9])\n",
      "torch.Size([10, 3, 400, 267]) tensor([4, 6, 9, 9, 3, 9, 6, 3, 0, 9])\n",
      "torch.Size([10, 3, 400, 267]) tensor([3, 1, 9, 6, 9, 3, 3, 0, 0, 4])\n",
      "torch.Size([10, 3, 400, 267]) tensor([ 3,  9, 11,  1,  4,  9,  3,  1,  1,  4])\n",
      "t = 5, loss = 11.4072\n",
      "torch.Size([10, 3, 400, 267]) tensor([10,  9,  3,  9,  6,  1,  1,  0,  3,  1])\n",
      "torch.Size([10, 3, 400, 267]) tensor([9, 9, 2, 3, 1, 9, 1, 6, 4, 9])\n",
      "torch.Size([5, 3, 400, 267]) tensor([9, 6, 9, 0, 9])\n",
      "Checking accuracy on validation set\n",
      "Got 8 / 25 correct (32.00)\n",
      "Starting epoch 1 / 1\n",
      "torch.Size([10, 3, 400, 267]) tensor([ 3, 11,  9,  9,  0,  3,  6,  3,  0,  3])\n",
      "torch.Size([10, 3, 400, 267]) tensor([0, 9, 3, 9, 1, 9, 9, 9, 3, 9])\n",
      "torch.Size([10, 3, 400, 267]) tensor([4, 6, 9, 9, 3, 9, 6, 3, 0, 9])\n",
      "torch.Size([10, 3, 400, 267]) tensor([3, 1, 9, 6, 9, 3, 3, 0, 0, 4])\n",
      "torch.Size([10, 3, 400, 267]) tensor([ 3,  9, 11,  1,  4,  9,  3,  1,  1,  4])\n",
      "t = 5, loss = 5.4207\n",
      "torch.Size([10, 3, 400, 267]) tensor([10,  9,  3,  9,  6,  1,  1,  0,  3,  1])\n",
      "torch.Size([10, 3, 400, 267]) tensor([9, 9, 2, 3, 1, 9, 1, 6, 4, 9])\n",
      "torch.Size([5, 3, 400, 267]) tensor([9, 6, 9, 0, 9])\n",
      "Checking accuracy on validation set\n",
      "Got 1 / 25 correct (4.00)\n",
      "Starting epoch 1 / 1\n",
      "torch.Size([10, 3, 400, 267]) tensor([ 3, 11,  9,  9,  0,  3,  6,  3,  0,  3])\n",
      "torch.Size([10, 3, 400, 267]) tensor([0, 9, 3, 9, 1, 9, 9, 9, 3, 9])\n",
      "torch.Size([10, 3, 400, 267]) tensor([4, 6, 9, 9, 3, 9, 6, 3, 0, 9])\n",
      "torch.Size([10, 3, 400, 267]) tensor([3, 1, 9, 6, 9, 3, 3, 0, 0, 4])\n",
      "torch.Size([10, 3, 400, 267]) tensor([ 3,  9, 11,  1,  4,  9,  3,  1,  1,  4])\n",
      "t = 5, loss = 8.1493\n",
      "torch.Size([10, 3, 400, 267]) tensor([10,  9,  3,  9,  6,  1,  1,  0,  3,  1])\n",
      "torch.Size([10, 3, 400, 267]) tensor([9, 9, 2, 3, 1, 9, 1, 6, 4, 9])\n",
      "torch.Size([5, 3, 400, 267]) tensor([9, 6, 9, 0, 9])\n",
      "Checking accuracy on validation set\n",
      "Got 8 / 25 correct (32.00)\n",
      "Starting epoch 1 / 1\n",
      "torch.Size([10, 3, 400, 267]) tensor([ 3, 11,  9,  9,  0,  3,  6,  3,  0,  3])\n",
      "torch.Size([10, 3, 400, 267]) tensor([0, 9, 3, 9, 1, 9, 9, 9, 3, 9])\n",
      "torch.Size([10, 3, 400, 267]) tensor([4, 6, 9, 9, 3, 9, 6, 3, 0, 9])\n",
      "torch.Size([10, 3, 400, 267]) tensor([3, 1, 9, 6, 9, 3, 3, 0, 0, 4])\n",
      "torch.Size([10, 3, 400, 267]) tensor([ 3,  9, 11,  1,  4,  9,  3,  1,  1,  4])\n",
      "t = 5, loss = 10.7226\n",
      "torch.Size([10, 3, 400, 267]) tensor([10,  9,  3,  9,  6,  1,  1,  0,  3,  1])\n",
      "torch.Size([10, 3, 400, 267]) tensor([9, 9, 2, 3, 1, 9, 1, 6, 4, 9])\n",
      "torch.Size([5, 3, 400, 267]) tensor([9, 6, 9, 0, 9])\n",
      "Checking accuracy on validation set\n",
      "Got 1 / 25 correct (4.00)\n",
      "Starting epoch 1 / 1\n",
      "torch.Size([10, 3, 400, 267]) tensor([ 3, 11,  9,  9,  0,  3,  6,  3,  0,  3])\n",
      "torch.Size([10, 3, 400, 267]) tensor([0, 9, 3, 9, 1, 9, 9, 9, 3, 9])\n",
      "torch.Size([10, 3, 400, 267]) tensor([4, 6, 9, 9, 3, 9, 6, 3, 0, 9])\n",
      "torch.Size([10, 3, 400, 267]) tensor([3, 1, 9, 6, 9, 3, 3, 0, 0, 4])\n",
      "torch.Size([10, 3, 400, 267]) tensor([ 3,  9, 11,  1,  4,  9,  3,  1,  1,  4])\n",
      "t = 5, loss = 3.1798\n",
      "torch.Size([10, 3, 400, 267]) tensor([10,  9,  3,  9,  6,  1,  1,  0,  3,  1])\n",
      "torch.Size([10, 3, 400, 267]) tensor([9, 9, 2, 3, 1, 9, 1, 6, 4, 9])\n",
      "torch.Size([5, 3, 400, 267]) tensor([9, 6, 9, 0, 9])\n",
      "Checking accuracy on validation set\n",
      "Got 1 / 25 correct (4.00)\n",
      "Starting epoch 1 / 1\n",
      "torch.Size([10, 3, 400, 267]) tensor([ 3, 11,  9,  9,  0,  3,  6,  3,  0,  3])\n",
      "torch.Size([10, 3, 400, 267]) tensor([0, 9, 3, 9, 1, 9, 9, 9, 3, 9])\n",
      "torch.Size([10, 3, 400, 267]) tensor([4, 6, 9, 9, 3, 9, 6, 3, 0, 9])\n",
      "torch.Size([10, 3, 400, 267]) tensor([3, 1, 9, 6, 9, 3, 3, 0, 0, 4])\n",
      "torch.Size([10, 3, 400, 267]) tensor([ 3,  9, 11,  1,  4,  9,  3,  1,  1,  4])\n",
      "t = 5, loss = 8.8450\n",
      "torch.Size([10, 3, 400, 267]) tensor([10,  9,  3,  9,  6,  1,  1,  0,  3,  1])\n",
      "torch.Size([10, 3, 400, 267]) tensor([9, 9, 2, 3, 1, 9, 1, 6, 4, 9])\n",
      "torch.Size([5, 3, 400, 267]) tensor([9, 6, 9, 0, 9])\n",
      "Checking accuracy on validation set\n",
      "Got 8 / 25 correct (32.00)\n",
      "Starting epoch 1 / 1\n",
      "torch.Size([10, 3, 400, 267]) tensor([ 3, 11,  9,  9,  0,  3,  6,  3,  0,  3])\n",
      "torch.Size([10, 3, 400, 267]) tensor([0, 9, 3, 9, 1, 9, 9, 9, 3, 9])\n",
      "torch.Size([10, 3, 400, 267]) tensor([4, 6, 9, 9, 3, 9, 6, 3, 0, 9])\n",
      "torch.Size([10, 3, 400, 267]) tensor([3, 1, 9, 6, 9, 3, 3, 0, 0, 4])\n",
      "torch.Size([10, 3, 400, 267]) tensor([ 3,  9, 11,  1,  4,  9,  3,  1,  1,  4])\n",
      "t = 5, loss = 9.8844\n",
      "torch.Size([10, 3, 400, 267]) tensor([10,  9,  3,  9,  6,  1,  1,  0,  3,  1])\n",
      "torch.Size([10, 3, 400, 267]) tensor([9, 9, 2, 3, 1, 9, 1, 6, 4, 9])\n",
      "torch.Size([5, 3, 400, 267]) tensor([9, 6, 9, 0, 9])\n",
      "Checking accuracy on validation set\n",
      "Got 0 / 25 correct (0.00)\n",
      "Starting epoch 1 / 1\n",
      "torch.Size([10, 3, 400, 267]) tensor([ 3, 11,  9,  9,  0,  3,  6,  3,  0,  3])\n",
      "torch.Size([10, 3, 400, 267]) tensor([0, 9, 3, 9, 1, 9, 9, 9, 3, 9])\n",
      "torch.Size([10, 3, 400, 267]) tensor([4, 6, 9, 9, 3, 9, 6, 3, 0, 9])\n",
      "torch.Size([10, 3, 400, 267]) tensor([3, 1, 9, 6, 9, 3, 3, 0, 0, 4])\n",
      "torch.Size([10, 3, 400, 267]) tensor([ 3,  9, 11,  1,  4,  9,  3,  1,  1,  4])\n",
      "t = 5, loss = 10.6991\n",
      "torch.Size([10, 3, 400, 267]) tensor([10,  9,  3,  9,  6,  1,  1,  0,  3,  1])\n",
      "torch.Size([10, 3, 400, 267]) tensor([9, 9, 2, 3, 1, 9, 1, 6, 4, 9])\n",
      "torch.Size([5, 3, 400, 267]) tensor([9, 6, 9, 0, 9])\n",
      "Checking accuracy on validation set\n",
      "Got 8 / 25 correct (32.00)\n",
      "4min 17s ± 4.87 s per loop (mean ± std. dev. of 7 runs, 1 loop each)\n"
     ]
    }
   ],
   "source": [
    "%%timeit\n",
    "dtype = torch.FloatTensor\n",
    "resnet50 = models.resnet50()\n",
    "loss_fn = nn.CrossEntropyLoss().type(dtype)\n",
    "optimizer = optim.RMSprop(resnet50.parameters(), lr=1e-3)\n",
    "learner.train(resnet50, train_data, loss_fn, optimizer, dtype, print_every=5)\n",
    "learner.check_accuracy(resnet50, validation_data, dtype)"
   ]
  },
  {
   "source": [
    "### Hypertuning"
   ],
   "cell_type": "markdown",
   "metadata": {}
  },
  {
   "cell_type": "code",
   "execution_count": 6,
   "metadata": {},
   "outputs": [],
   "source": [
    "# This function is called by raytune in the hyperparameter tuning. \n",
    "def train_resnet(config):\n",
    "    model = models.resnet50().type(dtype)\n",
    "    # train_loader, test_loader = get_data_loaders()\n",
    "    loss_fn = nn.CrossEntropyLoss().type(config['dtype'])\n",
    "    optimizer = optim.SGD(\n",
    "        model.parameters(), lr=config[\"lr\"])#, momentum=config[\"momentum\"])\n",
    "    # optimizer = optim.RMSprop(model.parameters(), lr=1e-3)\n",
    "    for i in range(10):\n",
    "        learner.train(model, train_data, loss_fn, optimizer, dtype, print_every=5)\n",
    "        acc = learner.check_accuracy(model, validation_data, dtype)\n",
    "        tune.report(mean_accuracy=acc)\n",
    "        if i % 5 == 0:\n",
    "            # This saves the model to the trial directory\n",
    "            torch.save(model.state_dict(), \"./model.pth\")"
   ]
  },
  {
   "cell_type": "code",
   "execution_count": 7,
   "metadata": {
    "tags": []
   },
   "outputs": [
    {
     "output_type": "display_data",
     "data": {
      "text/plain": "<IPython.core.display.HTML object>",
      "text/html": "== Status ==<br>Memory usage on this node: 6.5/15.6 GiB<br>Using AsyncHyperBand: num_stopped=0\nBracket: Iter 64.000: None | Iter 16.000: None | Iter 4.000: None | Iter 1.000: None<br>Resources requested: 1.0/8 CPUs, 1.0/1 GPUs, 0.0/6.31 GiB heap, 0.0/3.16 GiB objects (0.0/1.0 accelerator_type:GTX)<br>Result logdir: /home/braedon/ray_results/train_resnet_2021-05-14_16-32-31<br>Number of trials: 1/1 (1 RUNNING)<br><table>\n<thead>\n<tr><th>Trial name              </th><th>status  </th><th>loc  </th><th style=\"text-align: right;\">  lr</th></tr>\n</thead>\n<tbody>\n<tr><td>train_resnet_a778a_00000</td><td>RUNNING </td><td>     </td><td style=\"text-align: right;\"> 0.1</td></tr>\n</tbody>\n</table><br><br>"
     },
     "metadata": {}
    },
    {
     "output_type": "stream",
     "name": "stderr",
     "text": [
      "\u001b[2m\u001b[36m(pid=17444)\u001b[0m /home/braedon/.local/lib/python3.8/site-packages/skimage/io/manage_plugins.py:23: UserWarning: Your installed pillow version is < 7.1.0. Several security issues (CVE-2020-11538, CVE-2020-10379, CVE-2020-10994, CVE-2020-10177) have been fixed in pillow 7.1.0 or higher. We recommend to upgrade this library.\n",
      "\u001b[2m\u001b[36m(pid=17444)\u001b[0m   from .collection import imread_collection_wrapper\n",
      "\u001b[2m\u001b[36m(pid=17444)\u001b[0m Starting epoch 1 / 1\n",
      "\u001b[2m\u001b[36m(pid=17444)\u001b[0m torch.Size([10, 3, 400, 267]) tensor([ 3, 11,  9,  9,  0,  3,  6,  3,  0,  3])\n",
      "\u001b[2m\u001b[36m(pid=17444)\u001b[0m torch.Size([10, 3, 400, 267]) tensor([0, 9, 3, 9, 1, 9, 9, 9, 3, 9])\n",
      "\u001b[2m\u001b[36m(pid=17444)\u001b[0m torch.Size([10, 3, 400, 267]) tensor([4, 6, 9, 9, 3, 9, 6, 3, 0, 9])\n",
      "\u001b[2m\u001b[36m(pid=17444)\u001b[0m torch.Size([10, 3, 400, 267]) tensor([3, 1, 9, 6, 9, 3, 3, 0, 0, 4])\n",
      "\u001b[2m\u001b[36m(pid=17444)\u001b[0m torch.Size([10, 3, 400, 267]) tensor([ 3,  9, 11,  1,  4,  9,  3,  1,  1,  4])\n",
      "\u001b[2m\u001b[36m(pid=17444)\u001b[0m t = 5, loss = 21.1463\n",
      "\u001b[2m\u001b[36m(pid=17444)\u001b[0m torch.Size([10, 3, 400, 267]) tensor([10,  9,  3,  9,  6,  1,  1,  0,  3,  1])\n",
      "\u001b[2m\u001b[36m(pid=17444)\u001b[0m torch.Size([10, 3, 400, 267]) tensor([9, 9, 2, 3, 1, 9, 1, 6, 4, 9])\n",
      "\u001b[2m\u001b[36m(pid=17444)\u001b[0m torch.Size([5, 3, 400, 267]) tensor([9, 6, 9, 0, 9])\n",
      "\u001b[2m\u001b[36m(pid=17444)\u001b[0m Checking accuracy on validation set\n",
      "Result for train_resnet_a778a_00000:\n",
      "  date: 2021-05-14_16-36-55\n",
      "  done: false\n",
      "  experiment_id: 5407504cfe49406f91ef57aff42f7cc4\n",
      "  hostname: jeremiah-v2-linux\n",
      "  iterations_since_restore: 1\n",
      "  mean_accuracy: 0.04\n",
      "  node_ip: 192.168.1.10\n",
      "  pid: 17444\n",
      "  time_since_restore: 262.56361269950867\n",
      "  time_this_iter_s: 262.56361269950867\n",
      "  time_total_s: 262.56361269950867\n",
      "  timestamp: 1621035415\n",
      "  timesteps_since_restore: 0\n",
      "  training_iteration: 1\n",
      "  trial_id: a778a_00000\n",
      "  \n"
     ]
    },
    {
     "output_type": "display_data",
     "data": {
      "text/plain": "<IPython.core.display.HTML object>",
      "text/html": "== Status ==<br>Memory usage on this node: 9.1/15.6 GiB<br>Using AsyncHyperBand: num_stopped=0\nBracket: Iter 64.000: None | Iter 16.000: None | Iter 4.000: None | Iter 1.000: 0.04<br>Resources requested: 1.0/8 CPUs, 1.0/1 GPUs, 0.0/6.31 GiB heap, 0.0/3.16 GiB objects (0.0/1.0 accelerator_type:GTX)<br>Result logdir: /home/braedon/ray_results/train_resnet_2021-05-14_16-32-31<br>Number of trials: 1/1 (1 RUNNING)<br><table>\n<thead>\n<tr><th>Trial name              </th><th>status  </th><th>loc               </th><th style=\"text-align: right;\">  lr</th><th style=\"text-align: right;\">  acc</th><th style=\"text-align: right;\">  iter</th><th style=\"text-align: right;\">  total time (s)</th></tr>\n</thead>\n<tbody>\n<tr><td>train_resnet_a778a_00000</td><td>RUNNING </td><td>192.168.1.10:17444</td><td style=\"text-align: right;\"> 0.1</td><td style=\"text-align: right;\"> 0.04</td><td style=\"text-align: right;\">     1</td><td style=\"text-align: right;\">         262.564</td></tr>\n</tbody>\n</table><br><br>"
     },
     "metadata": {}
    },
    {
     "output_type": "stream",
     "name": "stdout",
     "text": [
      "\u001b[2m\u001b[36m(pid=17444)\u001b[0m Got 1 / 25 correct (4.00)\n",
      "\u001b[2m\u001b[36m(pid=17444)\u001b[0m Starting epoch 1 / 1\n",
      "\u001b[2m\u001b[36m(pid=17444)\u001b[0m torch.Size([10, 3, 400, 267]) tensor([ 3, 11,  9,  9,  0,  3,  6,  3,  0,  3])\n",
      "\u001b[2m\u001b[36m(pid=17444)\u001b[0m torch.Size([10, 3, 400, 267]) tensor([0, 9, 3, 9, 1, 9, 9, 9, 3, 9])\n",
      "\u001b[2m\u001b[36m(pid=17444)\u001b[0m torch.Size([10, 3, 400, 267]) tensor([4, 6, 9, 9, 3, 9, 6, 3, 0, 9])\n",
      "\u001b[2m\u001b[36m(pid=17444)\u001b[0m torch.Size([10, 3, 400, 267]) tensor([3, 1, 9, 6, 9, 3, 3, 0, 0, 4])\n",
      "\u001b[2m\u001b[36m(pid=17444)\u001b[0m torch.Size([10, 3, 400, 267]) tensor([ 3,  9, 11,  1,  4,  9,  3,  1,  1,  4])\n",
      "\u001b[2m\u001b[36m(pid=17444)\u001b[0m t = 5, loss = 9.4815\n",
      "\u001b[2m\u001b[36m(pid=17444)\u001b[0m torch.Size([10, 3, 400, 267]) tensor([10,  9,  3,  9,  6,  1,  1,  0,  3,  1])\n",
      "\u001b[2m\u001b[36m(pid=17444)\u001b[0m torch.Size([10, 3, 400, 267]) tensor([9, 9, 2, 3, 1, 9, 1, 6, 4, 9])\n",
      "\u001b[2m\u001b[36m(pid=17444)\u001b[0m torch.Size([5, 3, 400, 267]) tensor([9, 6, 9, 0, 9])\n",
      "\u001b[2m\u001b[36m(pid=17444)\u001b[0m Checking accuracy on validation set\n",
      "Result for train_resnet_a778a_00000:\n",
      "  date: 2021-05-14_16-41-12\n",
      "  done: false\n",
      "  experiment_id: 5407504cfe49406f91ef57aff42f7cc4\n",
      "  hostname: jeremiah-v2-linux\n",
      "  iterations_since_restore: 2\n",
      "  mean_accuracy: 0.36\n",
      "  node_ip: 192.168.1.10\n",
      "  pid: 17444\n",
      "  time_since_restore: 519.2983386516571\n",
      "  time_this_iter_s: 256.73472595214844\n",
      "  time_total_s: 519.2983386516571\n",
      "  timestamp: 1621035672\n",
      "  timesteps_since_restore: 0\n",
      "  training_iteration: 2\n",
      "  trial_id: a778a_00000\n",
      "  \n"
     ]
    },
    {
     "output_type": "display_data",
     "data": {
      "text/plain": "<IPython.core.display.HTML object>",
      "text/html": "== Status ==<br>Memory usage on this node: 9.0/15.6 GiB<br>Using AsyncHyperBand: num_stopped=0\nBracket: Iter 64.000: None | Iter 16.000: None | Iter 4.000: None | Iter 1.000: 0.04<br>Resources requested: 1.0/8 CPUs, 1.0/1 GPUs, 0.0/6.31 GiB heap, 0.0/3.16 GiB objects (0.0/1.0 accelerator_type:GTX)<br>Result logdir: /home/braedon/ray_results/train_resnet_2021-05-14_16-32-31<br>Number of trials: 1/1 (1 RUNNING)<br><table>\n<thead>\n<tr><th>Trial name              </th><th>status  </th><th>loc               </th><th style=\"text-align: right;\">  lr</th><th style=\"text-align: right;\">  acc</th><th style=\"text-align: right;\">  iter</th><th style=\"text-align: right;\">  total time (s)</th></tr>\n</thead>\n<tbody>\n<tr><td>train_resnet_a778a_00000</td><td>RUNNING </td><td>192.168.1.10:17444</td><td style=\"text-align: right;\"> 0.1</td><td style=\"text-align: right;\"> 0.36</td><td style=\"text-align: right;\">     2</td><td style=\"text-align: right;\">         519.298</td></tr>\n</tbody>\n</table><br><br>"
     },
     "metadata": {}
    },
    {
     "output_type": "stream",
     "name": "stdout",
     "text": [
      "\u001b[2m\u001b[36m(pid=17444)\u001b[0m Got 9 / 25 correct (36.00)\n",
      "\u001b[2m\u001b[36m(pid=17444)\u001b[0m Starting epoch 1 / 1\n",
      "\u001b[2m\u001b[36m(pid=17444)\u001b[0m torch.Size([10, 3, 400, 267]) tensor([ 3, 11,  9,  9,  0,  3,  6,  3,  0,  3])\n",
      "\u001b[2m\u001b[36m(pid=17444)\u001b[0m torch.Size([10, 3, 400, 267]) tensor([0, 9, 3, 9, 1, 9, 9, 9, 3, 9])\n",
      "\u001b[2m\u001b[36m(pid=17444)\u001b[0m torch.Size([10, 3, 400, 267]) tensor([4, 6, 9, 9, 3, 9, 6, 3, 0, 9])\n",
      "\u001b[2m\u001b[36m(pid=17444)\u001b[0m torch.Size([10, 3, 400, 267]) tensor([3, 1, 9, 6, 9, 3, 3, 0, 0, 4])\n",
      "\u001b[2m\u001b[36m(pid=17444)\u001b[0m torch.Size([10, 3, 400, 267]) tensor([ 3,  9, 11,  1,  4,  9,  3,  1,  1,  4])\n",
      "\u001b[2m\u001b[36m(pid=17444)\u001b[0m t = 5, loss = 3.2938\n",
      "\u001b[2m\u001b[36m(pid=17444)\u001b[0m torch.Size([10, 3, 400, 267]) tensor([10,  9,  3,  9,  6,  1,  1,  0,  3,  1])\n",
      "\u001b[2m\u001b[36m(pid=17444)\u001b[0m torch.Size([10, 3, 400, 267]) tensor([9, 9, 2, 3, 1, 9, 1, 6, 4, 9])\n",
      "\u001b[2m\u001b[36m(pid=17444)\u001b[0m torch.Size([5, 3, 400, 267]) tensor([9, 6, 9, 0, 9])\n",
      "\u001b[2m\u001b[36m(pid=17444)\u001b[0m Checking accuracy on validation set\n",
      "Result for train_resnet_a778a_00000:\n",
      "  date: 2021-05-14_16-45-18\n",
      "  done: false\n",
      "  experiment_id: 5407504cfe49406f91ef57aff42f7cc4\n",
      "  hostname: jeremiah-v2-linux\n",
      "  iterations_since_restore: 3\n",
      "  mean_accuracy: 0.36\n",
      "  node_ip: 192.168.1.10\n",
      "  pid: 17444\n",
      "  time_since_restore: 765.3241097927094\n",
      "  time_this_iter_s: 246.02577114105225\n",
      "  time_total_s: 765.3241097927094\n",
      "  timestamp: 1621035918\n",
      "  timesteps_since_restore: 0\n",
      "  training_iteration: 3\n",
      "  trial_id: a778a_00000\n",
      "  \n"
     ]
    },
    {
     "output_type": "display_data",
     "data": {
      "text/plain": "<IPython.core.display.HTML object>",
      "text/html": "== Status ==<br>Memory usage on this node: 9.0/15.6 GiB<br>Using AsyncHyperBand: num_stopped=0\nBracket: Iter 64.000: None | Iter 16.000: None | Iter 4.000: None | Iter 1.000: 0.04<br>Resources requested: 1.0/8 CPUs, 1.0/1 GPUs, 0.0/6.31 GiB heap, 0.0/3.16 GiB objects (0.0/1.0 accelerator_type:GTX)<br>Result logdir: /home/braedon/ray_results/train_resnet_2021-05-14_16-32-31<br>Number of trials: 1/1 (1 RUNNING)<br><table>\n<thead>\n<tr><th>Trial name              </th><th>status  </th><th>loc               </th><th style=\"text-align: right;\">  lr</th><th style=\"text-align: right;\">  acc</th><th style=\"text-align: right;\">  iter</th><th style=\"text-align: right;\">  total time (s)</th></tr>\n</thead>\n<tbody>\n<tr><td>train_resnet_a778a_00000</td><td>RUNNING </td><td>192.168.1.10:17444</td><td style=\"text-align: right;\"> 0.1</td><td style=\"text-align: right;\"> 0.36</td><td style=\"text-align: right;\">     3</td><td style=\"text-align: right;\">         765.324</td></tr>\n</tbody>\n</table><br><br>"
     },
     "metadata": {}
    },
    {
     "output_type": "stream",
     "name": "stdout",
     "text": [
      "\u001b[2m\u001b[36m(pid=17444)\u001b[0m Got 9 / 25 correct (36.00)\n",
      "\u001b[2m\u001b[36m(pid=17444)\u001b[0m Starting epoch 1 / 1\n",
      "\u001b[2m\u001b[36m(pid=17444)\u001b[0m torch.Size([10, 3, 400, 267]) tensor([ 3, 11,  9,  9,  0,  3,  6,  3,  0,  3])\n",
      "\u001b[2m\u001b[36m(pid=17444)\u001b[0m torch.Size([10, 3, 400, 267]) tensor([0, 9, 3, 9, 1, 9, 9, 9, 3, 9])\n",
      "\u001b[2m\u001b[36m(pid=17444)\u001b[0m torch.Size([10, 3, 400, 267]) tensor([4, 6, 9, 9, 3, 9, 6, 3, 0, 9])\n",
      "\u001b[2m\u001b[36m(pid=17444)\u001b[0m torch.Size([10, 3, 400, 267]) tensor([3, 1, 9, 6, 9, 3, 3, 0, 0, 4])\n",
      "\u001b[2m\u001b[36m(pid=17444)\u001b[0m torch.Size([10, 3, 400, 267]) tensor([ 3,  9, 11,  1,  4,  9,  3,  1,  1,  4])\n",
      "\u001b[2m\u001b[36m(pid=17444)\u001b[0m t = 5, loss = 4.5579\n",
      "\u001b[2m\u001b[36m(pid=17444)\u001b[0m torch.Size([10, 3, 400, 267]) tensor([10,  9,  3,  9,  6,  1,  1,  0,  3,  1])\n",
      "\u001b[2m\u001b[36m(pid=17444)\u001b[0m torch.Size([10, 3, 400, 267]) tensor([9, 9, 2, 3, 1, 9, 1, 6, 4, 9])\n",
      "\u001b[2m\u001b[36m(pid=17444)\u001b[0m torch.Size([5, 3, 400, 267]) tensor([9, 6, 9, 0, 9])\n",
      "\u001b[2m\u001b[36m(pid=17444)\u001b[0m Checking accuracy on validation set\n",
      "Result for train_resnet_a778a_00000:\n",
      "  date: 2021-05-14_16-49-10\n",
      "  done: false\n",
      "  experiment_id: 5407504cfe49406f91ef57aff42f7cc4\n",
      "  hostname: jeremiah-v2-linux\n",
      "  iterations_since_restore: 4\n",
      "  mean_accuracy: 0.36\n",
      "  node_ip: 192.168.1.10\n",
      "  pid: 17444\n",
      "  time_since_restore: 997.7804584503174\n",
      "  time_this_iter_s: 232.45634865760803\n",
      "  time_total_s: 997.7804584503174\n",
      "  timestamp: 1621036150\n",
      "  timesteps_since_restore: 0\n",
      "  training_iteration: 4\n",
      "  trial_id: a778a_00000\n",
      "  \n"
     ]
    },
    {
     "output_type": "display_data",
     "data": {
      "text/plain": "<IPython.core.display.HTML object>",
      "text/html": "== Status ==<br>Memory usage on this node: 9.0/15.6 GiB<br>Using AsyncHyperBand: num_stopped=0\nBracket: Iter 64.000: None | Iter 16.000: None | Iter 4.000: 0.36 | Iter 1.000: 0.04<br>Resources requested: 1.0/8 CPUs, 1.0/1 GPUs, 0.0/6.31 GiB heap, 0.0/3.16 GiB objects (0.0/1.0 accelerator_type:GTX)<br>Result logdir: /home/braedon/ray_results/train_resnet_2021-05-14_16-32-31<br>Number of trials: 1/1 (1 RUNNING)<br><table>\n<thead>\n<tr><th>Trial name              </th><th>status  </th><th>loc               </th><th style=\"text-align: right;\">  lr</th><th style=\"text-align: right;\">  acc</th><th style=\"text-align: right;\">  iter</th><th style=\"text-align: right;\">  total time (s)</th></tr>\n</thead>\n<tbody>\n<tr><td>train_resnet_a778a_00000</td><td>RUNNING </td><td>192.168.1.10:17444</td><td style=\"text-align: right;\"> 0.1</td><td style=\"text-align: right;\"> 0.36</td><td style=\"text-align: right;\">     4</td><td style=\"text-align: right;\">          997.78</td></tr>\n</tbody>\n</table><br><br>"
     },
     "metadata": {}
    },
    {
     "output_type": "stream",
     "name": "stdout",
     "text": [
      "\u001b[2m\u001b[36m(pid=17444)\u001b[0m Got 9 / 25 correct (36.00)\n",
      "\u001b[2m\u001b[36m(pid=17444)\u001b[0m Starting epoch 1 / 1\n",
      "\u001b[2m\u001b[36m(pid=17444)\u001b[0m torch.Size([10, 3, 400, 267]) tensor([ 3, 11,  9,  9,  0,  3,  6,  3,  0,  3])\n",
      "\u001b[2m\u001b[36m(pid=17444)\u001b[0m torch.Size([10, 3, 400, 267]) tensor([0, 9, 3, 9, 1, 9, 9, 9, 3, 9])\n",
      "\u001b[2m\u001b[36m(pid=17444)\u001b[0m torch.Size([10, 3, 400, 267]) tensor([4, 6, 9, 9, 3, 9, 6, 3, 0, 9])\n",
      "\u001b[2m\u001b[36m(pid=17444)\u001b[0m torch.Size([10, 3, 400, 267]) tensor([3, 1, 9, 6, 9, 3, 3, 0, 0, 4])\n",
      "\u001b[2m\u001b[36m(pid=17444)\u001b[0m torch.Size([10, 3, 400, 267]) tensor([ 3,  9, 11,  1,  4,  9,  3,  1,  1,  4])\n",
      "\u001b[2m\u001b[36m(pid=17444)\u001b[0m t = 5, loss = 3.5599\n",
      "\u001b[2m\u001b[36m(pid=17444)\u001b[0m torch.Size([10, 3, 400, 267]) tensor([10,  9,  3,  9,  6,  1,  1,  0,  3,  1])\n",
      "\u001b[2m\u001b[36m(pid=17444)\u001b[0m torch.Size([10, 3, 400, 267]) tensor([9, 9, 2, 3, 1, 9, 1, 6, 4, 9])\n",
      "\u001b[2m\u001b[36m(pid=17444)\u001b[0m torch.Size([5, 3, 400, 267]) tensor([9, 6, 9, 0, 9])\n",
      "\u001b[2m\u001b[36m(pid=17444)\u001b[0m Checking accuracy on validation set\n",
      "Result for train_resnet_a778a_00000:\n",
      "  date: 2021-05-14_16-53-05\n",
      "  done: false\n",
      "  experiment_id: 5407504cfe49406f91ef57aff42f7cc4\n",
      "  hostname: jeremiah-v2-linux\n",
      "  iterations_since_restore: 5\n",
      "  mean_accuracy: 0.32\n",
      "  node_ip: 192.168.1.10\n",
      "  pid: 17444\n",
      "  time_since_restore: 1231.9449880123138\n",
      "  time_this_iter_s: 234.16452956199646\n",
      "  time_total_s: 1231.9449880123138\n",
      "  timestamp: 1621036385\n",
      "  timesteps_since_restore: 0\n",
      "  training_iteration: 5\n",
      "  trial_id: a778a_00000\n",
      "  \n"
     ]
    },
    {
     "output_type": "display_data",
     "data": {
      "text/plain": "<IPython.core.display.HTML object>",
      "text/html": "== Status ==<br>Memory usage on this node: 9.0/15.6 GiB<br>Using AsyncHyperBand: num_stopped=0\nBracket: Iter 64.000: None | Iter 16.000: None | Iter 4.000: 0.36 | Iter 1.000: 0.04<br>Resources requested: 1.0/8 CPUs, 1.0/1 GPUs, 0.0/6.31 GiB heap, 0.0/3.16 GiB objects (0.0/1.0 accelerator_type:GTX)<br>Result logdir: /home/braedon/ray_results/train_resnet_2021-05-14_16-32-31<br>Number of trials: 1/1 (1 RUNNING)<br><table>\n<thead>\n<tr><th>Trial name              </th><th>status  </th><th>loc               </th><th style=\"text-align: right;\">  lr</th><th style=\"text-align: right;\">  acc</th><th style=\"text-align: right;\">  iter</th><th style=\"text-align: right;\">  total time (s)</th></tr>\n</thead>\n<tbody>\n<tr><td>train_resnet_a778a_00000</td><td>RUNNING </td><td>192.168.1.10:17444</td><td style=\"text-align: right;\"> 0.1</td><td style=\"text-align: right;\"> 0.32</td><td style=\"text-align: right;\">     5</td><td style=\"text-align: right;\">         1231.94</td></tr>\n</tbody>\n</table><br><br>"
     },
     "metadata": {}
    },
    {
     "output_type": "stream",
     "name": "stdout",
     "text": [
      "\u001b[2m\u001b[36m(pid=17444)\u001b[0m Got 8 / 25 correct (32.00)\n",
      "\u001b[2m\u001b[36m(pid=17444)\u001b[0m Starting epoch 1 / 1\n",
      "\u001b[2m\u001b[36m(pid=17444)\u001b[0m torch.Size([10, 3, 400, 267]) tensor([ 3, 11,  9,  9,  0,  3,  6,  3,  0,  3])\n",
      "\u001b[2m\u001b[36m(pid=17444)\u001b[0m torch.Size([10, 3, 400, 267]) tensor([0, 9, 3, 9, 1, 9, 9, 9, 3, 9])\n",
      "\u001b[2m\u001b[36m(pid=17444)\u001b[0m torch.Size([10, 3, 400, 267]) tensor([4, 6, 9, 9, 3, 9, 6, 3, 0, 9])\n",
      "\u001b[2m\u001b[36m(pid=17444)\u001b[0m torch.Size([10, 3, 400, 267]) tensor([3, 1, 9, 6, 9, 3, 3, 0, 0, 4])\n",
      "\u001b[2m\u001b[36m(pid=17444)\u001b[0m torch.Size([10, 3, 400, 267]) tensor([ 3,  9, 11,  1,  4,  9,  3,  1,  1,  4])\n",
      "\u001b[2m\u001b[36m(pid=17444)\u001b[0m t = 5, loss = 2.9716\n",
      "\u001b[2m\u001b[36m(pid=17444)\u001b[0m torch.Size([10, 3, 400, 267]) tensor([10,  9,  3,  9,  6,  1,  1,  0,  3,  1])\n",
      "\u001b[2m\u001b[36m(pid=17444)\u001b[0m torch.Size([10, 3, 400, 267]) tensor([9, 9, 2, 3, 1, 9, 1, 6, 4, 9])\n",
      "\u001b[2m\u001b[36m(pid=17444)\u001b[0m torch.Size([5, 3, 400, 267]) tensor([9, 6, 9, 0, 9])\n",
      "\u001b[2m\u001b[36m(pid=17444)\u001b[0m Checking accuracy on validation set\n",
      "Result for train_resnet_a778a_00000:\n",
      "  date: 2021-05-14_16-56-59\n",
      "  done: false\n",
      "  experiment_id: 5407504cfe49406f91ef57aff42f7cc4\n",
      "  hostname: jeremiah-v2-linux\n",
      "  iterations_since_restore: 6\n",
      "  mean_accuracy: 0.08\n",
      "  node_ip: 192.168.1.10\n",
      "  pid: 17444\n",
      "  time_since_restore: 1466.0389924049377\n",
      "  time_this_iter_s: 234.0940043926239\n",
      "  time_total_s: 1466.0389924049377\n",
      "  timestamp: 1621036619\n",
      "  timesteps_since_restore: 0\n",
      "  training_iteration: 6\n",
      "  trial_id: a778a_00000\n",
      "  \n"
     ]
    },
    {
     "output_type": "display_data",
     "data": {
      "text/plain": "<IPython.core.display.HTML object>",
      "text/html": "== Status ==<br>Memory usage on this node: 9.0/15.6 GiB<br>Using AsyncHyperBand: num_stopped=0\nBracket: Iter 64.000: None | Iter 16.000: None | Iter 4.000: 0.36 | Iter 1.000: 0.04<br>Resources requested: 1.0/8 CPUs, 1.0/1 GPUs, 0.0/6.31 GiB heap, 0.0/3.16 GiB objects (0.0/1.0 accelerator_type:GTX)<br>Result logdir: /home/braedon/ray_results/train_resnet_2021-05-14_16-32-31<br>Number of trials: 1/1 (1 RUNNING)<br><table>\n<thead>\n<tr><th>Trial name              </th><th>status  </th><th>loc               </th><th style=\"text-align: right;\">  lr</th><th style=\"text-align: right;\">  acc</th><th style=\"text-align: right;\">  iter</th><th style=\"text-align: right;\">  total time (s)</th></tr>\n</thead>\n<tbody>\n<tr><td>train_resnet_a778a_00000</td><td>RUNNING </td><td>192.168.1.10:17444</td><td style=\"text-align: right;\"> 0.1</td><td style=\"text-align: right;\"> 0.08</td><td style=\"text-align: right;\">     6</td><td style=\"text-align: right;\">         1466.04</td></tr>\n</tbody>\n</table><br><br>"
     },
     "metadata": {}
    },
    {
     "output_type": "stream",
     "name": "stdout",
     "text": [
      "\u001b[2m\u001b[36m(pid=17444)\u001b[0m Got 2 / 25 correct (8.00)\n",
      "\u001b[2m\u001b[36m(pid=17444)\u001b[0m Starting epoch 1 / 1\n",
      "\u001b[2m\u001b[36m(pid=17444)\u001b[0m torch.Size([10, 3, 400, 267]) tensor([ 3, 11,  9,  9,  0,  3,  6,  3,  0,  3])\n",
      "\u001b[2m\u001b[36m(pid=17444)\u001b[0m torch.Size([10, 3, 400, 267]) tensor([0, 9, 3, 9, 1, 9, 9, 9, 3, 9])\n",
      "\u001b[2m\u001b[36m(pid=17444)\u001b[0m torch.Size([10, 3, 400, 267]) tensor([4, 6, 9, 9, 3, 9, 6, 3, 0, 9])\n",
      "\u001b[2m\u001b[36m(pid=17444)\u001b[0m torch.Size([10, 3, 400, 267]) tensor([3, 1, 9, 6, 9, 3, 3, 0, 0, 4])\n",
      "\u001b[2m\u001b[36m(pid=17444)\u001b[0m torch.Size([10, 3, 400, 267]) tensor([ 3,  9, 11,  1,  4,  9,  3,  1,  1,  4])\n",
      "\u001b[2m\u001b[36m(pid=17444)\u001b[0m t = 5, loss = 2.7400\n",
      "\u001b[2m\u001b[36m(pid=17444)\u001b[0m torch.Size([10, 3, 400, 267]) tensor([10,  9,  3,  9,  6,  1,  1,  0,  3,  1])\n",
      "\u001b[2m\u001b[36m(pid=17444)\u001b[0m torch.Size([10, 3, 400, 267]) tensor([9, 9, 2, 3, 1, 9, 1, 6, 4, 9])\n",
      "\u001b[2m\u001b[36m(pid=17444)\u001b[0m torch.Size([5, 3, 400, 267]) tensor([9, 6, 9, 0, 9])\n",
      "\u001b[2m\u001b[36m(pid=17444)\u001b[0m Checking accuracy on validation set\n",
      "Result for train_resnet_a778a_00000:\n",
      "  date: 2021-05-14_17-00-53\n",
      "  done: false\n",
      "  experiment_id: 5407504cfe49406f91ef57aff42f7cc4\n",
      "  hostname: jeremiah-v2-linux\n",
      "  iterations_since_restore: 7\n",
      "  mean_accuracy: 0.36\n",
      "  node_ip: 192.168.1.10\n",
      "  pid: 17444\n",
      "  time_since_restore: 1700.045072555542\n",
      "  time_this_iter_s: 234.00608015060425\n",
      "  time_total_s: 1700.045072555542\n",
      "  timestamp: 1621036853\n",
      "  timesteps_since_restore: 0\n",
      "  training_iteration: 7\n",
      "  trial_id: a778a_00000\n",
      "  \n"
     ]
    },
    {
     "output_type": "display_data",
     "data": {
      "text/plain": "<IPython.core.display.HTML object>",
      "text/html": "== Status ==<br>Memory usage on this node: 9.0/15.6 GiB<br>Using AsyncHyperBand: num_stopped=0\nBracket: Iter 64.000: None | Iter 16.000: None | Iter 4.000: 0.36 | Iter 1.000: 0.04<br>Resources requested: 1.0/8 CPUs, 1.0/1 GPUs, 0.0/6.31 GiB heap, 0.0/3.16 GiB objects (0.0/1.0 accelerator_type:GTX)<br>Result logdir: /home/braedon/ray_results/train_resnet_2021-05-14_16-32-31<br>Number of trials: 1/1 (1 RUNNING)<br><table>\n<thead>\n<tr><th>Trial name              </th><th>status  </th><th>loc               </th><th style=\"text-align: right;\">  lr</th><th style=\"text-align: right;\">  acc</th><th style=\"text-align: right;\">  iter</th><th style=\"text-align: right;\">  total time (s)</th></tr>\n</thead>\n<tbody>\n<tr><td>train_resnet_a778a_00000</td><td>RUNNING </td><td>192.168.1.10:17444</td><td style=\"text-align: right;\"> 0.1</td><td style=\"text-align: right;\"> 0.36</td><td style=\"text-align: right;\">     7</td><td style=\"text-align: right;\">         1700.05</td></tr>\n</tbody>\n</table><br><br>"
     },
     "metadata": {}
    },
    {
     "output_type": "stream",
     "name": "stdout",
     "text": [
      "\u001b[2m\u001b[36m(pid=17444)\u001b[0m Got 9 / 25 correct (36.00)\n",
      "\u001b[2m\u001b[36m(pid=17444)\u001b[0m Starting epoch 1 / 1\n",
      "\u001b[2m\u001b[36m(pid=17444)\u001b[0m torch.Size([10, 3, 400, 267]) tensor([ 3, 11,  9,  9,  0,  3,  6,  3,  0,  3])\n",
      "\u001b[2m\u001b[36m(pid=17444)\u001b[0m torch.Size([10, 3, 400, 267]) tensor([0, 9, 3, 9, 1, 9, 9, 9, 3, 9])\n",
      "\u001b[2m\u001b[36m(pid=17444)\u001b[0m torch.Size([10, 3, 400, 267]) tensor([4, 6, 9, 9, 3, 9, 6, 3, 0, 9])\n",
      "\u001b[2m\u001b[36m(pid=17444)\u001b[0m torch.Size([10, 3, 400, 267]) tensor([3, 1, 9, 6, 9, 3, 3, 0, 0, 4])\n",
      "\u001b[2m\u001b[36m(pid=17444)\u001b[0m torch.Size([10, 3, 400, 267]) tensor([ 3,  9, 11,  1,  4,  9,  3,  1,  1,  4])\n",
      "\u001b[2m\u001b[36m(pid=17444)\u001b[0m t = 5, loss = 2.9194\n",
      "\u001b[2m\u001b[36m(pid=17444)\u001b[0m torch.Size([10, 3, 400, 267]) tensor([10,  9,  3,  9,  6,  1,  1,  0,  3,  1])\n",
      "\u001b[2m\u001b[36m(pid=17444)\u001b[0m torch.Size([10, 3, 400, 267]) tensor([9, 9, 2, 3, 1, 9, 1, 6, 4, 9])\n",
      "\u001b[2m\u001b[36m(pid=17444)\u001b[0m torch.Size([5, 3, 400, 267]) tensor([9, 6, 9, 0, 9])\n",
      "\u001b[2m\u001b[36m(pid=17444)\u001b[0m Checking accuracy on validation set\n",
      "Result for train_resnet_a778a_00000:\n",
      "  date: 2021-05-14_17-04-45\n",
      "  done: false\n",
      "  experiment_id: 5407504cfe49406f91ef57aff42f7cc4\n",
      "  hostname: jeremiah-v2-linux\n",
      "  iterations_since_restore: 8\n",
      "  mean_accuracy: 0.32\n",
      "  node_ip: 192.168.1.10\n",
      "  pid: 17444\n",
      "  time_since_restore: 1932.636806488037\n",
      "  time_this_iter_s: 232.59173393249512\n",
      "  time_total_s: 1932.636806488037\n",
      "  timestamp: 1621037085\n",
      "  timesteps_since_restore: 0\n",
      "  training_iteration: 8\n",
      "  trial_id: a778a_00000\n",
      "  \n"
     ]
    },
    {
     "output_type": "display_data",
     "data": {
      "text/plain": "<IPython.core.display.HTML object>",
      "text/html": "== Status ==<br>Memory usage on this node: 9.1/15.6 GiB<br>Using AsyncHyperBand: num_stopped=0\nBracket: Iter 64.000: None | Iter 16.000: None | Iter 4.000: 0.36 | Iter 1.000: 0.04<br>Resources requested: 1.0/8 CPUs, 1.0/1 GPUs, 0.0/6.31 GiB heap, 0.0/3.16 GiB objects (0.0/1.0 accelerator_type:GTX)<br>Result logdir: /home/braedon/ray_results/train_resnet_2021-05-14_16-32-31<br>Number of trials: 1/1 (1 RUNNING)<br><table>\n<thead>\n<tr><th>Trial name              </th><th>status  </th><th>loc               </th><th style=\"text-align: right;\">  lr</th><th style=\"text-align: right;\">  acc</th><th style=\"text-align: right;\">  iter</th><th style=\"text-align: right;\">  total time (s)</th></tr>\n</thead>\n<tbody>\n<tr><td>train_resnet_a778a_00000</td><td>RUNNING </td><td>192.168.1.10:17444</td><td style=\"text-align: right;\"> 0.1</td><td style=\"text-align: right;\"> 0.32</td><td style=\"text-align: right;\">     8</td><td style=\"text-align: right;\">         1932.64</td></tr>\n</tbody>\n</table><br><br>"
     },
     "metadata": {}
    },
    {
     "output_type": "stream",
     "name": "stdout",
     "text": [
      "\u001b[2m\u001b[36m(pid=17444)\u001b[0m Got 8 / 25 correct (32.00)\n",
      "\u001b[2m\u001b[36m(pid=17444)\u001b[0m Starting epoch 1 / 1\n",
      "\u001b[2m\u001b[36m(pid=17444)\u001b[0m torch.Size([10, 3, 400, 267]) tensor([ 3, 11,  9,  9,  0,  3,  6,  3,  0,  3])\n",
      "\u001b[2m\u001b[36m(pid=17444)\u001b[0m torch.Size([10, 3, 400, 267]) tensor([0, 9, 3, 9, 1, 9, 9, 9, 3, 9])\n",
      "\u001b[2m\u001b[36m(pid=17444)\u001b[0m torch.Size([10, 3, 400, 267]) tensor([4, 6, 9, 9, 3, 9, 6, 3, 0, 9])\n",
      "\u001b[2m\u001b[36m(pid=17444)\u001b[0m torch.Size([10, 3, 400, 267]) tensor([3, 1, 9, 6, 9, 3, 3, 0, 0, 4])\n",
      "\u001b[2m\u001b[36m(pid=17444)\u001b[0m torch.Size([10, 3, 400, 267]) tensor([ 3,  9, 11,  1,  4,  9,  3,  1,  1,  4])\n",
      "\u001b[2m\u001b[36m(pid=17444)\u001b[0m t = 5, loss = 3.3794\n",
      "\u001b[2m\u001b[36m(pid=17444)\u001b[0m torch.Size([10, 3, 400, 267]) tensor([10,  9,  3,  9,  6,  1,  1,  0,  3,  1])\n",
      "\u001b[2m\u001b[36m(pid=17444)\u001b[0m torch.Size([10, 3, 400, 267]) tensor([9, 9, 2, 3, 1, 9, 1, 6, 4, 9])\n",
      "\u001b[2m\u001b[36m(pid=17444)\u001b[0m torch.Size([5, 3, 400, 267]) tensor([9, 6, 9, 0, 9])\n",
      "\u001b[2m\u001b[36m(pid=17444)\u001b[0m Checking accuracy on validation set\n",
      "Result for train_resnet_a778a_00000:\n",
      "  date: 2021-05-14_17-08-37\n",
      "  done: false\n",
      "  experiment_id: 5407504cfe49406f91ef57aff42f7cc4\n",
      "  hostname: jeremiah-v2-linux\n",
      "  iterations_since_restore: 9\n",
      "  mean_accuracy: 0.32\n",
      "  node_ip: 192.168.1.10\n",
      "  pid: 17444\n",
      "  time_since_restore: 2164.167490005493\n",
      "  time_this_iter_s: 231.53068351745605\n",
      "  time_total_s: 2164.167490005493\n",
      "  timestamp: 1621037317\n",
      "  timesteps_since_restore: 0\n",
      "  training_iteration: 9\n",
      "  trial_id: a778a_00000\n",
      "  \n"
     ]
    },
    {
     "output_type": "display_data",
     "data": {
      "text/plain": "<IPython.core.display.HTML object>",
      "text/html": "== Status ==<br>Memory usage on this node: 9.1/15.6 GiB<br>Using AsyncHyperBand: num_stopped=0\nBracket: Iter 64.000: None | Iter 16.000: None | Iter 4.000: 0.36 | Iter 1.000: 0.04<br>Resources requested: 1.0/8 CPUs, 1.0/1 GPUs, 0.0/6.31 GiB heap, 0.0/3.16 GiB objects (0.0/1.0 accelerator_type:GTX)<br>Result logdir: /home/braedon/ray_results/train_resnet_2021-05-14_16-32-31<br>Number of trials: 1/1 (1 RUNNING)<br><table>\n<thead>\n<tr><th>Trial name              </th><th>status  </th><th>loc               </th><th style=\"text-align: right;\">  lr</th><th style=\"text-align: right;\">  acc</th><th style=\"text-align: right;\">  iter</th><th style=\"text-align: right;\">  total time (s)</th></tr>\n</thead>\n<tbody>\n<tr><td>train_resnet_a778a_00000</td><td>RUNNING </td><td>192.168.1.10:17444</td><td style=\"text-align: right;\"> 0.1</td><td style=\"text-align: right;\"> 0.32</td><td style=\"text-align: right;\">     9</td><td style=\"text-align: right;\">         2164.17</td></tr>\n</tbody>\n</table><br><br>"
     },
     "metadata": {}
    },
    {
     "output_type": "stream",
     "name": "stdout",
     "text": [
      "\u001b[2m\u001b[36m(pid=17444)\u001b[0m Got 8 / 25 correct (32.00)\n",
      "\u001b[2m\u001b[36m(pid=17444)\u001b[0m Starting epoch 1 / 1\n",
      "\u001b[2m\u001b[36m(pid=17444)\u001b[0m torch.Size([10, 3, 400, 267]) tensor([ 3, 11,  9,  9,  0,  3,  6,  3,  0,  3])\n",
      "\u001b[2m\u001b[36m(pid=17444)\u001b[0m torch.Size([10, 3, 400, 267]) tensor([0, 9, 3, 9, 1, 9, 9, 9, 3, 9])\n",
      "\u001b[2m\u001b[36m(pid=17444)\u001b[0m torch.Size([10, 3, 400, 267]) tensor([4, 6, 9, 9, 3, 9, 6, 3, 0, 9])\n",
      "\u001b[2m\u001b[36m(pid=17444)\u001b[0m torch.Size([10, 3, 400, 267]) tensor([3, 1, 9, 6, 9, 3, 3, 0, 0, 4])\n",
      "\u001b[2m\u001b[36m(pid=17444)\u001b[0m torch.Size([10, 3, 400, 267]) tensor([ 3,  9, 11,  1,  4,  9,  3,  1,  1,  4])\n",
      "\u001b[2m\u001b[36m(pid=17444)\u001b[0m t = 5, loss = 2.5656\n",
      "\u001b[2m\u001b[36m(pid=17444)\u001b[0m torch.Size([10, 3, 400, 267]) tensor([10,  9,  3,  9,  6,  1,  1,  0,  3,  1])\n",
      "\u001b[2m\u001b[36m(pid=17444)\u001b[0m torch.Size([10, 3, 400, 267]) tensor([9, 9, 2, 3, 1, 9, 1, 6, 4, 9])\n",
      "\u001b[2m\u001b[36m(pid=17444)\u001b[0m torch.Size([5, 3, 400, 267]) tensor([9, 6, 9, 0, 9])\n",
      "\u001b[2m\u001b[36m(pid=17444)\u001b[0m Checking accuracy on validation set\n",
      "\u001b[2m\u001b[36m(pid=17444)\u001b[0m Got 8 / 25 correct (32.00)\n",
      "Result for train_resnet_a778a_00000:\n",
      "  date: 2021-05-14_17-12-31\n",
      "  done: false\n",
      "  experiment_id: 5407504cfe49406f91ef57aff42f7cc4\n",
      "  hostname: jeremiah-v2-linux\n",
      "  iterations_since_restore: 10\n",
      "  mean_accuracy: 0.32\n",
      "  node_ip: 192.168.1.10\n",
      "  pid: 17444\n",
      "  time_since_restore: 2398.2567207813263\n",
      "  time_this_iter_s: 234.08923077583313\n",
      "  time_total_s: 2398.2567207813263\n",
      "  timestamp: 1621037551\n",
      "  timesteps_since_restore: 0\n",
      "  training_iteration: 10\n",
      "  trial_id: a778a_00000\n",
      "  \n"
     ]
    },
    {
     "output_type": "display_data",
     "data": {
      "text/plain": "<IPython.core.display.HTML object>",
      "text/html": "== Status ==<br>Memory usage on this node: 9.1/15.6 GiB<br>Using AsyncHyperBand: num_stopped=0\nBracket: Iter 64.000: None | Iter 16.000: None | Iter 4.000: 0.36 | Iter 1.000: 0.04<br>Resources requested: 1.0/8 CPUs, 1.0/1 GPUs, 0.0/6.31 GiB heap, 0.0/3.16 GiB objects (0.0/1.0 accelerator_type:GTX)<br>Result logdir: /home/braedon/ray_results/train_resnet_2021-05-14_16-32-31<br>Number of trials: 1/1 (1 RUNNING)<br><table>\n<thead>\n<tr><th>Trial name              </th><th>status  </th><th>loc               </th><th style=\"text-align: right;\">  lr</th><th style=\"text-align: right;\">  acc</th><th style=\"text-align: right;\">  iter</th><th style=\"text-align: right;\">  total time (s)</th></tr>\n</thead>\n<tbody>\n<tr><td>train_resnet_a778a_00000</td><td>RUNNING </td><td>192.168.1.10:17444</td><td style=\"text-align: right;\"> 0.1</td><td style=\"text-align: right;\"> 0.32</td><td style=\"text-align: right;\">    10</td><td style=\"text-align: right;\">         2398.26</td></tr>\n</tbody>\n</table><br><br>"
     },
     "metadata": {}
    },
    {
     "output_type": "stream",
     "name": "stdout",
     "text": [
      "Result for train_resnet_a778a_00000:\n  date: 2021-05-14_17-12-31\n  done: true\n  experiment_id: 5407504cfe49406f91ef57aff42f7cc4\n  experiment_tag: 0_lr=0.1\n  hostname: jeremiah-v2-linux\n  iterations_since_restore: 10\n  mean_accuracy: 0.32\n  node_ip: 192.168.1.10\n  pid: 17444\n  time_since_restore: 2398.2567207813263\n  time_this_iter_s: 234.08923077583313\n  time_total_s: 2398.2567207813263\n  timestamp: 1621037551\n  timesteps_since_restore: 0\n  training_iteration: 10\n  trial_id: a778a_00000\n  \n"
     ]
    },
    {
     "output_type": "display_data",
     "data": {
      "text/plain": "<IPython.core.display.HTML object>",
      "text/html": "== Status ==<br>Memory usage on this node: 9.0/15.6 GiB<br>Using AsyncHyperBand: num_stopped=0\nBracket: Iter 64.000: None | Iter 16.000: None | Iter 4.000: 0.36 | Iter 1.000: 0.04<br>Resources requested: 0/8 CPUs, 0/1 GPUs, 0.0/6.31 GiB heap, 0.0/3.16 GiB objects (0.0/1.0 accelerator_type:GTX)<br>Result logdir: /home/braedon/ray_results/train_resnet_2021-05-14_16-32-31<br>Number of trials: 1/1 (1 TERMINATED)<br><table>\n<thead>\n<tr><th>Trial name              </th><th>status    </th><th>loc  </th><th style=\"text-align: right;\">  lr</th><th style=\"text-align: right;\">  acc</th><th style=\"text-align: right;\">  iter</th><th style=\"text-align: right;\">  total time (s)</th></tr>\n</thead>\n<tbody>\n<tr><td>train_resnet_a778a_00000</td><td>TERMINATED</td><td>     </td><td style=\"text-align: right;\"> 0.1</td><td style=\"text-align: right;\"> 0.32</td><td style=\"text-align: right;\">    10</td><td style=\"text-align: right;\">         2398.26</td></tr>\n</tbody>\n</table><br><br>"
     },
     "metadata": {}
    },
    {
     "output_type": "stream",
     "name": "stderr",
     "text": [
      "2021-05-14 17:12:31,441\tINFO tune.py:549 -- Total run time: 2399.57 seconds (2399.45 seconds for the tuning loop).\n"
     ]
    }
   ],
   "source": [
    "# Add hyperparameters here for additional tuning\n",
    "# change their values to adjust the range and selection mechanism (uniform between two points, uniform from given options, iterate through all given options, etc.)\n",
    "search_space = {\n",
    "    'dtype': dtype, # don't change this one, not a hyperparameter\n",
    "    'lr': tune.choice([0.1])\n",
    "}\n",
    "num_samples = 1\n",
    "\n",
    "# This is what does the hyperparameter tuning. Right now, it's set to call the train_resnet function, and it works toward maximizing the mean_accuracy. It can also minimize loss.\n",
    "analysis = tune.run(\n",
    "    train_resnet,\n",
    "    num_samples=num_samples,\n",
    "    scheduler=ASHAScheduler(metric=\"mean_accuracy\", mode=\"max\", grace_period=1),\n",
    "    config=search_space,\n",
    "    resources_per_trial=resources_per_trial)"
   ]
  },
  {
   "cell_type": "code",
   "execution_count": null,
   "metadata": {},
   "outputs": [],
   "source": [
    "# To do (analysis)...\n",
    "\n",
    "# print(\"Best config: \", analysis.get_best_config(\n",
    "#     metric=\"mean_loss\", mode=\"min\"))\n",
    "\n",
    "# # Get a dataframe for analyzing trial results.\n",
    "# df = analysis.results_df"
   ]
  }
 ],
 "metadata": {
  "kernelspec": {
   "display_name": "Python 3",
   "language": "python",
   "name": "python3"
  },
  "language_info": {
   "codemirror_mode": {
    "name": "ipython",
    "version": 3
   },
   "file_extension": ".py",
   "mimetype": "text/x-python",
   "name": "python",
   "nbconvert_exporter": "python",
   "pygments_lexer": "ipython3",
   "version": "3.8.5"
  }
 },
 "nbformat": 4,
 "nbformat_minor": 5
}