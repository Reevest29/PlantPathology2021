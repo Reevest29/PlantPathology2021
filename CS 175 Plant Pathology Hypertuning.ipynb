{
 "cells": [
  {
   "cell_type": "markdown",
   "id": "cardiovascular-london",
   "metadata": {},
   "source": [
    "# Plant Pathology Hypertuning"
   ]
  },
  {
   "cell_type": "markdown",
   "id": "massive-corporation",
   "metadata": {},
   "source": [
    "### Setup"
   ]
  },
  {
   "cell_type": "code",
   "execution_count": 1,
   "id": "acknowledged-slave",
   "metadata": {},
   "outputs": [
    {
     "output_type": "stream",
     "name": "stderr",
     "text": [
      "/home/braedon/.local/lib/python3.8/site-packages/skimage/io/manage_plugins.py:23: UserWarning: Your installed pillow version is < 7.1.0. Several security issues (CVE-2020-11538, CVE-2020-10379, CVE-2020-10994, CVE-2020-10177) have been fixed in pillow 7.1.0 or higher. We recommend to upgrade this library.\n  from .collection import imread_collection_wrapper\n"
     ]
    }
   ],
   "source": [
    "import torch\n",
    "import torch.nn as nn\n",
    "import torch.optim as optim\n",
    "import torchvision.models as models\n",
    "from torch.autograd import Variable\n",
    "from torch.utils.data import DataLoader\n",
    "from torch.utils.data import sampler\n",
    "\n",
    "# import torchvision.datasets as dset\n",
    "import torchvision.transforms as T\n",
    "\n",
    "import numpy as np\n",
    "\n",
    "import timeit\n",
    "import copy\n",
    "\n",
    "from utils import utils, learner\n",
    "from utils import PlantPathologyDataset as dataset\n",
    "\n",
    "from ray import tune\n",
    "from ray.tune import CLIReporter\n",
    "from ray.tune.schedulers import ASHAScheduler"
   ]
  },
  {
   "cell_type": "code",
   "execution_count": 2,
   "id": "exclusive-thailand",
   "metadata": {},
   "outputs": [],
   "source": [
    "print_every = 100\n",
    "assert(torch.cuda.is_available())\n",
    "gpu_dtype = torch.cuda.FloatTensor"
   ]
  },
  {
   "cell_type": "code",
   "execution_count": 3,
   "id": "consecutive-spanish",
   "metadata": {},
   "outputs": [],
   "source": [
    "NUM_TRAIN = 75\n",
    "NUM_VAL = 25\n",
    "users = ('braedon', 'thomas', 'shangyi')\n",
    "user = users[0]\n",
    "\n",
    "if user == users[1]:\n",
    "    csv_file='C:\\\\Users\\\\tjtom\\PycharmProjects\\PlantPathology2021\\\\train.csv'\n",
    "    root_dir='C:\\\\Users\\\\tjtom\\PycharmProjects\\PlantPathology2021\\\\train_images'\n",
    "    mappings_dir='C:\\\\Users\\\\tjtom\\PycharmProjects\\PlantPathology2021\\\\labelMappings.csv'\n",
    "elif user == users[0]:\n",
    "    csv_file='/home/braedon/skole/cs175/PlantPathology2021/train.csv'\n",
    "    root_dir='/home/braedon/skole/cs175/PlantPathology2021/train_images'\n",
    "    mappings_dir='/home/braedon/skole/cs175/PlantPathology2021/labelMappings.csv'\n",
    "\n",
    "plant_dataset = dataset.PlantPathologyDataset(csv_file=csv_file,\n",
    "                                              root_dir=root_dir,\n",
    "                                              mappings_dir=mappings_dir)\n",
    "train_data = DataLoader(plant_dataset, batch_size=10, sampler= learner.ChunkSampler(NUM_TRAIN, 0))\n",
    "validation_data = DataLoader(plant_dataset, batch_size=10, sampler=learner.ChunkSampler(NUM_VAL, NUM_TRAIN))"
   ]
  },
  {
   "cell_type": "markdown",
   "id": "demanding-accused",
   "metadata": {},
   "source": [
    "### Testing resnet50"
   ]
  },
  {
   "cell_type": "code",
   "execution_count": 6,
   "id": "textile-stylus",
   "metadata": {},
   "outputs": [],
   "source": [
    "resnet50 = models.resnet50()#.cuda() # pretrained=True is pretrained on ImageNet\n",
    "\n",
    "loss_fn = nn.CrossEntropyLoss().type(gpu_dtype)\n",
    "optimizer = optim.RMSprop(resnet50.parameters(), lr=1e-3)"
   ]
  },
  {
   "cell_type": "code",
   "execution_count": 7,
   "id": "precious-raleigh",
   "metadata": {},
   "outputs": [
    {
     "output_type": "stream",
     "name": "stdout",
     "text": [
      "Starting epoch 1 / 1\n"
     ]
    },
    {
     "output_type": "error",
     "ename": "KeyboardInterrupt",
     "evalue": "",
     "traceback": [
      "\u001b[0;31m---------------------------------------------------------------------------\u001b[0m",
      "\u001b[0;31mKeyboardInterrupt\u001b[0m                         Traceback (most recent call last)",
      "\u001b[0;32m<ipython-input-7-e561e38ebd8f>\u001b[0m in \u001b[0;36m<module>\u001b[0;34m\u001b[0m\n\u001b[0;32m----> 1\u001b[0;31m \u001b[0mlearner\u001b[0m\u001b[0;34m.\u001b[0m\u001b[0mtrain\u001b[0m\u001b[0;34m(\u001b[0m\u001b[0mresnet50\u001b[0m\u001b[0;34m,\u001b[0m \u001b[0mtrain_data\u001b[0m\u001b[0;34m,\u001b[0m \u001b[0mloss_fn\u001b[0m\u001b[0;34m,\u001b[0m \u001b[0moptimizer\u001b[0m\u001b[0;34m,\u001b[0m \u001b[0mprint_every\u001b[0m\u001b[0;34m=\u001b[0m\u001b[0;36m5\u001b[0m\u001b[0;34m)\u001b[0m\u001b[0;34m\u001b[0m\u001b[0;34m\u001b[0m\u001b[0m\n\u001b[0m\u001b[1;32m      2\u001b[0m \u001b[0mlearner\u001b[0m\u001b[0;34m.\u001b[0m\u001b[0mcheck_accuracy\u001b[0m\u001b[0;34m(\u001b[0m\u001b[0mresnet50\u001b[0m\u001b[0;34m,\u001b[0m \u001b[0mvalidation_data\u001b[0m\u001b[0;34m)\u001b[0m\u001b[0;34m\u001b[0m\u001b[0;34m\u001b[0m\u001b[0m\n",
      "\u001b[0;32m~/skole/cs175/PlantPathology2021/utils/learner.py\u001b[0m in \u001b[0;36mtrain\u001b[0;34m(model, training_data, loss_fn, optimizer, dtype, num_epochs, print_every)\u001b[0m\n\u001b[1;32m     16\u001b[0m         \u001b[0mprint\u001b[0m\u001b[0;34m(\u001b[0m\u001b[0;34m'Starting epoch %d / %d'\u001b[0m \u001b[0;34m%\u001b[0m \u001b[0;34m(\u001b[0m\u001b[0mepoch\u001b[0m \u001b[0;34m+\u001b[0m \u001b[0;36m1\u001b[0m\u001b[0;34m,\u001b[0m \u001b[0mnum_epochs\u001b[0m\u001b[0;34m)\u001b[0m\u001b[0;34m)\u001b[0m\u001b[0;34m\u001b[0m\u001b[0;34m\u001b[0m\u001b[0m\n\u001b[1;32m     17\u001b[0m         \u001b[0mmodel\u001b[0m\u001b[0;34m.\u001b[0m\u001b[0mtrain\u001b[0m\u001b[0;34m(\u001b[0m\u001b[0;34m)\u001b[0m\u001b[0;34m\u001b[0m\u001b[0;34m\u001b[0m\u001b[0m\n\u001b[0;32m---> 18\u001b[0;31m         \u001b[0;32mfor\u001b[0m \u001b[0mt\u001b[0m\u001b[0;34m,\u001b[0m \u001b[0;34m(\u001b[0m\u001b[0mx\u001b[0m\u001b[0;34m,\u001b[0m \u001b[0my\u001b[0m\u001b[0;34m)\u001b[0m \u001b[0;32min\u001b[0m \u001b[0menumerate\u001b[0m\u001b[0;34m(\u001b[0m\u001b[0mtraining_data\u001b[0m\u001b[0;34m)\u001b[0m\u001b[0;34m:\u001b[0m\u001b[0;34m\u001b[0m\u001b[0;34m\u001b[0m\u001b[0m\n\u001b[0m\u001b[1;32m     19\u001b[0m             \u001b[0mprint\u001b[0m\u001b[0;34m(\u001b[0m\u001b[0mx\u001b[0m\u001b[0;34m.\u001b[0m\u001b[0mshape\u001b[0m\u001b[0;34m,\u001b[0m\u001b[0my\u001b[0m\u001b[0;34m)\u001b[0m\u001b[0;34m\u001b[0m\u001b[0;34m\u001b[0m\u001b[0m\n\u001b[1;32m     20\u001b[0m             \u001b[0mx_var\u001b[0m \u001b[0;34m=\u001b[0m \u001b[0mVariable\u001b[0m\u001b[0;34m(\u001b[0m\u001b[0mx\u001b[0m\u001b[0;34m.\u001b[0m\u001b[0mtype\u001b[0m\u001b[0;34m(\u001b[0m\u001b[0mdtype\u001b[0m\u001b[0;34m)\u001b[0m\u001b[0;34m)\u001b[0m\u001b[0;34m\u001b[0m\u001b[0;34m\u001b[0m\u001b[0m\n",
      "\u001b[0;32m~/.local/lib/python3.8/site-packages/torch/utils/data/dataloader.py\u001b[0m in \u001b[0;36m__next__\u001b[0;34m(self)\u001b[0m\n\u001b[1;32m    515\u001b[0m             \u001b[0;32mif\u001b[0m \u001b[0mself\u001b[0m\u001b[0;34m.\u001b[0m\u001b[0m_sampler_iter\u001b[0m \u001b[0;32mis\u001b[0m \u001b[0;32mNone\u001b[0m\u001b[0;34m:\u001b[0m\u001b[0;34m\u001b[0m\u001b[0;34m\u001b[0m\u001b[0m\n\u001b[1;32m    516\u001b[0m                 \u001b[0mself\u001b[0m\u001b[0;34m.\u001b[0m\u001b[0m_reset\u001b[0m\u001b[0;34m(\u001b[0m\u001b[0;34m)\u001b[0m\u001b[0;34m\u001b[0m\u001b[0;34m\u001b[0m\u001b[0m\n\u001b[0;32m--> 517\u001b[0;31m             \u001b[0mdata\u001b[0m \u001b[0;34m=\u001b[0m \u001b[0mself\u001b[0m\u001b[0;34m.\u001b[0m\u001b[0m_next_data\u001b[0m\u001b[0;34m(\u001b[0m\u001b[0;34m)\u001b[0m\u001b[0;34m\u001b[0m\u001b[0;34m\u001b[0m\u001b[0m\n\u001b[0m\u001b[1;32m    518\u001b[0m             \u001b[0mself\u001b[0m\u001b[0;34m.\u001b[0m\u001b[0m_num_yielded\u001b[0m \u001b[0;34m+=\u001b[0m \u001b[0;36m1\u001b[0m\u001b[0;34m\u001b[0m\u001b[0;34m\u001b[0m\u001b[0m\n\u001b[1;32m    519\u001b[0m             \u001b[0;32mif\u001b[0m \u001b[0mself\u001b[0m\u001b[0;34m.\u001b[0m\u001b[0m_dataset_kind\u001b[0m \u001b[0;34m==\u001b[0m \u001b[0m_DatasetKind\u001b[0m\u001b[0;34m.\u001b[0m\u001b[0mIterable\u001b[0m \u001b[0;32mand\u001b[0m\u001b[0;31m \u001b[0m\u001b[0;31m\\\u001b[0m\u001b[0;34m\u001b[0m\u001b[0;34m\u001b[0m\u001b[0m\n",
      "\u001b[0;32m~/.local/lib/python3.8/site-packages/torch/utils/data/dataloader.py\u001b[0m in \u001b[0;36m_next_data\u001b[0;34m(self)\u001b[0m\n\u001b[1;32m    555\u001b[0m     \u001b[0;32mdef\u001b[0m \u001b[0m_next_data\u001b[0m\u001b[0;34m(\u001b[0m\u001b[0mself\u001b[0m\u001b[0;34m)\u001b[0m\u001b[0;34m:\u001b[0m\u001b[0;34m\u001b[0m\u001b[0;34m\u001b[0m\u001b[0m\n\u001b[1;32m    556\u001b[0m         \u001b[0mindex\u001b[0m \u001b[0;34m=\u001b[0m \u001b[0mself\u001b[0m\u001b[0;34m.\u001b[0m\u001b[0m_next_index\u001b[0m\u001b[0;34m(\u001b[0m\u001b[0;34m)\u001b[0m  \u001b[0;31m# may raise StopIteration\u001b[0m\u001b[0;34m\u001b[0m\u001b[0;34m\u001b[0m\u001b[0m\n\u001b[0;32m--> 557\u001b[0;31m         \u001b[0mdata\u001b[0m \u001b[0;34m=\u001b[0m \u001b[0mself\u001b[0m\u001b[0;34m.\u001b[0m\u001b[0m_dataset_fetcher\u001b[0m\u001b[0;34m.\u001b[0m\u001b[0mfetch\u001b[0m\u001b[0;34m(\u001b[0m\u001b[0mindex\u001b[0m\u001b[0;34m)\u001b[0m  \u001b[0;31m# may raise StopIteration\u001b[0m\u001b[0;34m\u001b[0m\u001b[0;34m\u001b[0m\u001b[0m\n\u001b[0m\u001b[1;32m    558\u001b[0m         \u001b[0;32mif\u001b[0m \u001b[0mself\u001b[0m\u001b[0;34m.\u001b[0m\u001b[0m_pin_memory\u001b[0m\u001b[0;34m:\u001b[0m\u001b[0;34m\u001b[0m\u001b[0;34m\u001b[0m\u001b[0m\n\u001b[1;32m    559\u001b[0m             \u001b[0mdata\u001b[0m \u001b[0;34m=\u001b[0m \u001b[0m_utils\u001b[0m\u001b[0;34m.\u001b[0m\u001b[0mpin_memory\u001b[0m\u001b[0;34m.\u001b[0m\u001b[0mpin_memory\u001b[0m\u001b[0;34m(\u001b[0m\u001b[0mdata\u001b[0m\u001b[0;34m)\u001b[0m\u001b[0;34m\u001b[0m\u001b[0;34m\u001b[0m\u001b[0m\n",
      "\u001b[0;32m~/.local/lib/python3.8/site-packages/torch/utils/data/_utils/fetch.py\u001b[0m in \u001b[0;36mfetch\u001b[0;34m(self, possibly_batched_index)\u001b[0m\n\u001b[1;32m     42\u001b[0m     \u001b[0;32mdef\u001b[0m \u001b[0mfetch\u001b[0m\u001b[0;34m(\u001b[0m\u001b[0mself\u001b[0m\u001b[0;34m,\u001b[0m \u001b[0mpossibly_batched_index\u001b[0m\u001b[0;34m)\u001b[0m\u001b[0;34m:\u001b[0m\u001b[0;34m\u001b[0m\u001b[0;34m\u001b[0m\u001b[0m\n\u001b[1;32m     43\u001b[0m         \u001b[0;32mif\u001b[0m \u001b[0mself\u001b[0m\u001b[0;34m.\u001b[0m\u001b[0mauto_collation\u001b[0m\u001b[0;34m:\u001b[0m\u001b[0;34m\u001b[0m\u001b[0;34m\u001b[0m\u001b[0m\n\u001b[0;32m---> 44\u001b[0;31m             \u001b[0mdata\u001b[0m \u001b[0;34m=\u001b[0m \u001b[0;34m[\u001b[0m\u001b[0mself\u001b[0m\u001b[0;34m.\u001b[0m\u001b[0mdataset\u001b[0m\u001b[0;34m[\u001b[0m\u001b[0midx\u001b[0m\u001b[0;34m]\u001b[0m \u001b[0;32mfor\u001b[0m \u001b[0midx\u001b[0m \u001b[0;32min\u001b[0m \u001b[0mpossibly_batched_index\u001b[0m\u001b[0;34m]\u001b[0m\u001b[0;34m\u001b[0m\u001b[0;34m\u001b[0m\u001b[0m\n\u001b[0m\u001b[1;32m     45\u001b[0m         \u001b[0;32melse\u001b[0m\u001b[0;34m:\u001b[0m\u001b[0;34m\u001b[0m\u001b[0;34m\u001b[0m\u001b[0m\n\u001b[1;32m     46\u001b[0m             \u001b[0mdata\u001b[0m \u001b[0;34m=\u001b[0m \u001b[0mself\u001b[0m\u001b[0;34m.\u001b[0m\u001b[0mdataset\u001b[0m\u001b[0;34m[\u001b[0m\u001b[0mpossibly_batched_index\u001b[0m\u001b[0;34m]\u001b[0m\u001b[0;34m\u001b[0m\u001b[0;34m\u001b[0m\u001b[0m\n",
      "\u001b[0;32m~/.local/lib/python3.8/site-packages/torch/utils/data/_utils/fetch.py\u001b[0m in \u001b[0;36m<listcomp>\u001b[0;34m(.0)\u001b[0m\n\u001b[1;32m     42\u001b[0m     \u001b[0;32mdef\u001b[0m \u001b[0mfetch\u001b[0m\u001b[0;34m(\u001b[0m\u001b[0mself\u001b[0m\u001b[0;34m,\u001b[0m \u001b[0mpossibly_batched_index\u001b[0m\u001b[0;34m)\u001b[0m\u001b[0;34m:\u001b[0m\u001b[0;34m\u001b[0m\u001b[0;34m\u001b[0m\u001b[0m\n\u001b[1;32m     43\u001b[0m         \u001b[0;32mif\u001b[0m \u001b[0mself\u001b[0m\u001b[0;34m.\u001b[0m\u001b[0mauto_collation\u001b[0m\u001b[0;34m:\u001b[0m\u001b[0;34m\u001b[0m\u001b[0;34m\u001b[0m\u001b[0m\n\u001b[0;32m---> 44\u001b[0;31m             \u001b[0mdata\u001b[0m \u001b[0;34m=\u001b[0m \u001b[0;34m[\u001b[0m\u001b[0mself\u001b[0m\u001b[0;34m.\u001b[0m\u001b[0mdataset\u001b[0m\u001b[0;34m[\u001b[0m\u001b[0midx\u001b[0m\u001b[0;34m]\u001b[0m \u001b[0;32mfor\u001b[0m \u001b[0midx\u001b[0m \u001b[0;32min\u001b[0m \u001b[0mpossibly_batched_index\u001b[0m\u001b[0;34m]\u001b[0m\u001b[0;34m\u001b[0m\u001b[0;34m\u001b[0m\u001b[0m\n\u001b[0m\u001b[1;32m     45\u001b[0m         \u001b[0;32melse\u001b[0m\u001b[0;34m:\u001b[0m\u001b[0;34m\u001b[0m\u001b[0;34m\u001b[0m\u001b[0m\n\u001b[1;32m     46\u001b[0m             \u001b[0mdata\u001b[0m \u001b[0;34m=\u001b[0m \u001b[0mself\u001b[0m\u001b[0;34m.\u001b[0m\u001b[0mdataset\u001b[0m\u001b[0;34m[\u001b[0m\u001b[0mpossibly_batched_index\u001b[0m\u001b[0;34m]\u001b[0m\u001b[0;34m\u001b[0m\u001b[0;34m\u001b[0m\u001b[0m\n",
      "\u001b[0;32m~/skole/cs175/PlantPathology2021/utils/PlantPathologyDataset.py\u001b[0m in \u001b[0;36m__getitem__\u001b[0;34m(self, idx)\u001b[0m\n\u001b[1;32m     40\u001b[0m         \u001b[0mimage\u001b[0m \u001b[0;34m=\u001b[0m \u001b[0mio\u001b[0m\u001b[0;34m.\u001b[0m\u001b[0mimread\u001b[0m\u001b[0;34m(\u001b[0m\u001b[0mimg_name\u001b[0m\u001b[0;34m)\u001b[0m\u001b[0;34m\u001b[0m\u001b[0;34m\u001b[0m\u001b[0m\n\u001b[1;32m     41\u001b[0m         \u001b[0mimage_resized\u001b[0m \u001b[0;34m=\u001b[0m \u001b[0mresize\u001b[0m\u001b[0;34m(\u001b[0m\u001b[0mimage\u001b[0m\u001b[0;34m,\u001b[0m \u001b[0;34m(\u001b[0m\u001b[0;36m4000\u001b[0m\u001b[0;34m,\u001b[0m \u001b[0;36m2672\u001b[0m\u001b[0;34m)\u001b[0m\u001b[0;34m)\u001b[0m\u001b[0;34m\u001b[0m\u001b[0;34m\u001b[0m\u001b[0m\n\u001b[0;32m---> 42\u001b[0;31m         \u001b[0mimage_rescaled\u001b[0m \u001b[0;34m=\u001b[0m \u001b[0mrescale\u001b[0m\u001b[0;34m(\u001b[0m\u001b[0mimage_resized\u001b[0m\u001b[0;34m,\u001b[0m \u001b[0;36m.10\u001b[0m\u001b[0;34m,\u001b[0m \u001b[0mmultichannel\u001b[0m\u001b[0;34m=\u001b[0m\u001b[0;32mTrue\u001b[0m\u001b[0;34m)\u001b[0m\u001b[0;34m\u001b[0m\u001b[0;34m\u001b[0m\u001b[0m\n\u001b[0m\u001b[1;32m     43\u001b[0m         \u001b[0mimage_rescaled\u001b[0m \u001b[0;34m=\u001b[0m \u001b[0mimage_rescaled\u001b[0m\u001b[0;34m.\u001b[0m\u001b[0mreshape\u001b[0m\u001b[0;34m(\u001b[0m\u001b[0;36m3\u001b[0m\u001b[0;34m,\u001b[0m\u001b[0mimage_rescaled\u001b[0m\u001b[0;34m.\u001b[0m\u001b[0mshape\u001b[0m\u001b[0;34m[\u001b[0m\u001b[0;36m0\u001b[0m\u001b[0;34m]\u001b[0m\u001b[0;34m,\u001b[0m\u001b[0mimage_rescaled\u001b[0m\u001b[0;34m.\u001b[0m\u001b[0mshape\u001b[0m\u001b[0;34m[\u001b[0m\u001b[0;36m1\u001b[0m\u001b[0;34m]\u001b[0m\u001b[0;34m)\u001b[0m\u001b[0;34m\u001b[0m\u001b[0;34m\u001b[0m\u001b[0m\n\u001b[1;32m     44\u001b[0m \u001b[0;34m\u001b[0m\u001b[0m\n",
      "\u001b[0;32m~/.local/lib/python3.8/site-packages/skimage/transform/_warps.py\u001b[0m in \u001b[0;36mrescale\u001b[0;34m(image, scale, order, mode, cval, clip, preserve_range, multichannel, anti_aliasing, anti_aliasing_sigma)\u001b[0m\n\u001b[1;32m    288\u001b[0m         \u001b[0moutput_shape\u001b[0m\u001b[0;34m[\u001b[0m\u001b[0;34m-\u001b[0m\u001b[0;36m1\u001b[0m\u001b[0;34m]\u001b[0m \u001b[0;34m=\u001b[0m \u001b[0morig_shape\u001b[0m\u001b[0;34m[\u001b[0m\u001b[0;34m-\u001b[0m\u001b[0;36m1\u001b[0m\u001b[0;34m]\u001b[0m\u001b[0;34m\u001b[0m\u001b[0;34m\u001b[0m\u001b[0m\n\u001b[1;32m    289\u001b[0m \u001b[0;34m\u001b[0m\u001b[0m\n\u001b[0;32m--> 290\u001b[0;31m     return resize(image, output_shape, order=order, mode=mode, cval=cval,\n\u001b[0m\u001b[1;32m    291\u001b[0m                   \u001b[0mclip\u001b[0m\u001b[0;34m=\u001b[0m\u001b[0mclip\u001b[0m\u001b[0;34m,\u001b[0m \u001b[0mpreserve_range\u001b[0m\u001b[0;34m=\u001b[0m\u001b[0mpreserve_range\u001b[0m\u001b[0;34m,\u001b[0m\u001b[0;34m\u001b[0m\u001b[0;34m\u001b[0m\u001b[0m\n\u001b[1;32m    292\u001b[0m                   \u001b[0manti_aliasing\u001b[0m\u001b[0;34m=\u001b[0m\u001b[0manti_aliasing\u001b[0m\u001b[0;34m,\u001b[0m\u001b[0;34m\u001b[0m\u001b[0;34m\u001b[0m\u001b[0m\n",
      "\u001b[0;32m~/.local/lib/python3.8/site-packages/skimage/transform/_warps.py\u001b[0m in \u001b[0;36mresize\u001b[0;34m(image, output_shape, order, mode, cval, clip, preserve_range, anti_aliasing, anti_aliasing_sigma)\u001b[0m\n\u001b[1;32m    145\u001b[0m                              \"documentation of numpy.pad for more info.\")\n\u001b[1;32m    146\u001b[0m \u001b[0;34m\u001b[0m\u001b[0m\n\u001b[0;32m--> 147\u001b[0;31m         image = ndi.gaussian_filter(image, anti_aliasing_sigma,\n\u001b[0m\u001b[1;32m    148\u001b[0m                                     cval=cval, mode=ndi_mode)\n\u001b[1;32m    149\u001b[0m \u001b[0;34m\u001b[0m\u001b[0m\n",
      "\u001b[0;32m~/.local/lib/python3.8/site-packages/scipy/ndimage/filters.py\u001b[0m in \u001b[0;36mgaussian_filter\u001b[0;34m(input, sigma, order, output, mode, cval, truncate)\u001b[0m\n\u001b[1;32m    296\u001b[0m     \u001b[0;32mif\u001b[0m \u001b[0mlen\u001b[0m\u001b[0;34m(\u001b[0m\u001b[0maxes\u001b[0m\u001b[0;34m)\u001b[0m \u001b[0;34m>\u001b[0m \u001b[0;36m0\u001b[0m\u001b[0;34m:\u001b[0m\u001b[0;34m\u001b[0m\u001b[0;34m\u001b[0m\u001b[0m\n\u001b[1;32m    297\u001b[0m         \u001b[0;32mfor\u001b[0m \u001b[0maxis\u001b[0m\u001b[0;34m,\u001b[0m \u001b[0msigma\u001b[0m\u001b[0;34m,\u001b[0m \u001b[0morder\u001b[0m\u001b[0;34m,\u001b[0m \u001b[0mmode\u001b[0m \u001b[0;32min\u001b[0m \u001b[0maxes\u001b[0m\u001b[0;34m:\u001b[0m\u001b[0;34m\u001b[0m\u001b[0;34m\u001b[0m\u001b[0m\n\u001b[0;32m--> 298\u001b[0;31m             gaussian_filter1d(input, sigma, axis, order, output,\n\u001b[0m\u001b[1;32m    299\u001b[0m                               mode, cval, truncate)\n\u001b[1;32m    300\u001b[0m             \u001b[0minput\u001b[0m \u001b[0;34m=\u001b[0m \u001b[0moutput\u001b[0m\u001b[0;34m\u001b[0m\u001b[0;34m\u001b[0m\u001b[0m\n",
      "\u001b[0;32m~/.local/lib/python3.8/site-packages/scipy/ndimage/filters.py\u001b[0m in \u001b[0;36mgaussian_filter1d\u001b[0;34m(input, sigma, axis, order, output, mode, cval, truncate)\u001b[0m\n\u001b[1;32m    215\u001b[0m     \u001b[0;31m# Since we are calling correlate, not convolve, revert the kernel\u001b[0m\u001b[0;34m\u001b[0m\u001b[0;34m\u001b[0m\u001b[0;34m\u001b[0m\u001b[0m\n\u001b[1;32m    216\u001b[0m     \u001b[0mweights\u001b[0m \u001b[0;34m=\u001b[0m \u001b[0m_gaussian_kernel1d\u001b[0m\u001b[0;34m(\u001b[0m\u001b[0msigma\u001b[0m\u001b[0;34m,\u001b[0m \u001b[0morder\u001b[0m\u001b[0;34m,\u001b[0m \u001b[0mlw\u001b[0m\u001b[0;34m)\u001b[0m\u001b[0;34m[\u001b[0m\u001b[0;34m:\u001b[0m\u001b[0;34m:\u001b[0m\u001b[0;34m-\u001b[0m\u001b[0;36m1\u001b[0m\u001b[0;34m]\u001b[0m\u001b[0;34m\u001b[0m\u001b[0;34m\u001b[0m\u001b[0m\n\u001b[0;32m--> 217\u001b[0;31m     \u001b[0;32mreturn\u001b[0m \u001b[0mcorrelate1d\u001b[0m\u001b[0;34m(\u001b[0m\u001b[0minput\u001b[0m\u001b[0;34m,\u001b[0m \u001b[0mweights\u001b[0m\u001b[0;34m,\u001b[0m \u001b[0maxis\u001b[0m\u001b[0;34m,\u001b[0m \u001b[0moutput\u001b[0m\u001b[0;34m,\u001b[0m \u001b[0mmode\u001b[0m\u001b[0;34m,\u001b[0m \u001b[0mcval\u001b[0m\u001b[0;34m,\u001b[0m \u001b[0;36m0\u001b[0m\u001b[0;34m)\u001b[0m\u001b[0;34m\u001b[0m\u001b[0;34m\u001b[0m\u001b[0m\n\u001b[0m\u001b[1;32m    218\u001b[0m \u001b[0;34m\u001b[0m\u001b[0m\n\u001b[1;32m    219\u001b[0m \u001b[0;34m\u001b[0m\u001b[0m\n",
      "\u001b[0;32m~/.local/lib/python3.8/site-packages/scipy/ndimage/filters.py\u001b[0m in \u001b[0;36mcorrelate1d\u001b[0;34m(input, weights, axis, output, mode, cval, origin)\u001b[0m\n\u001b[1;32m     92\u001b[0m                          '(len(weights)-1) // 2')\n\u001b[1;32m     93\u001b[0m     \u001b[0mmode\u001b[0m \u001b[0;34m=\u001b[0m \u001b[0m_ni_support\u001b[0m\u001b[0;34m.\u001b[0m\u001b[0m_extend_mode_to_code\u001b[0m\u001b[0;34m(\u001b[0m\u001b[0mmode\u001b[0m\u001b[0;34m)\u001b[0m\u001b[0;34m\u001b[0m\u001b[0;34m\u001b[0m\u001b[0m\n\u001b[0;32m---> 94\u001b[0;31m     _nd_image.correlate1d(input, weights, axis, output, mode, cval,\n\u001b[0m\u001b[1;32m     95\u001b[0m                           origin)\n\u001b[1;32m     96\u001b[0m     \u001b[0;32mreturn\u001b[0m \u001b[0moutput\u001b[0m\u001b[0;34m\u001b[0m\u001b[0;34m\u001b[0m\u001b[0m\n",
      "\u001b[0;31mKeyboardInterrupt\u001b[0m: "
     ]
    }
   ],
   "source": [
    "learner.train(resnet50, train_data, loss_fn, optimizer, print_every=5)\n",
    "learner.check_accuracy(resnet50, validation_data)"
   ]
  },
  {
   "source": [
    "### Hypertuning"
   ],
   "cell_type": "markdown",
   "metadata": {}
  },
  {
   "cell_type": "code",
   "execution_count": 8,
   "metadata": {},
   "outputs": [],
   "source": [
    "# This function is called by raytune in the hyperparameter tuning. \n",
    "def train_resnet(config):\n",
    "    model = models.resnet50()\n",
    "    # train_loader, test_loader = get_data_loaders()\n",
    "    loss_fn = nn.CrossEntropyLoss().type(gpu_dtype)\n",
    "    optimizer = optim.SGD(\n",
    "        model.parameters(), lr=config[\"lr\"])#, momentum=config[\"momentum\"])\n",
    "    # optimizer = optim.RMSprop(model.parameters(), lr=1e-3)\n",
    "    for i in range(10):\n",
    "        learner.train(model, train_data, loss_fn, optimizer, print_every=5)\n",
    "        acc = learner.check_accuracy(model, validation_data)\n",
    "        tune.report(mean_accuracy=acc)\n",
    "        if i % 5 == 0:\n",
    "            # This saves the model to the trial directory\n",
    "            torch.save(model.state_dict(), \"./model.pth\")"
   ]
  },
  {
   "cell_type": "code",
   "execution_count": 9,
   "metadata": {
    "tags": []
   },
   "outputs": [
    {
     "output_type": "stream",
     "name": "stderr",
     "text": [
      "2021-05-14 13:09:55,443\tWARNING tune.py:494 -- Tune detects GPUs, but no trials are using GPUs. To enable trials to use GPUs, set tune.run(resources_per_trial={'gpu': 1}...) which allows Tune to expose 1 GPU to each trial. You can also override `Trainable.default_resource_request` if using the Trainable API.\n"
     ]
    },
    {
     "output_type": "display_data",
     "data": {
      "text/plain": "<IPython.core.display.HTML object>",
      "text/html": "== Status ==<br>Memory usage on this node: 2.9/15.6 GiB<br>Using AsyncHyperBand: num_stopped=0\nBracket: Iter 64.000: None | Iter 16.000: None | Iter 4.000: None | Iter 1.000: None<br>Resources requested: 1.0/8 CPUs, 0/1 GPUs, 0.0/8.22 GiB heap, 0.0/4.11 GiB objects (0.0/1.0 accelerator_type:GTX)<br>Result logdir: /home/braedon/ray_results/train_resnet_2021-05-14_13-09-55<br>Number of trials: 1/1 (1 RUNNING)<br><table>\n<thead>\n<tr><th>Trial name              </th><th>status  </th><th>loc  </th><th style=\"text-align: right;\">  lr</th></tr>\n</thead>\n<tbody>\n<tr><td>train_resnet_59a9c_00000</td><td>RUNNING </td><td>     </td><td style=\"text-align: right;\"> 0.1</td></tr>\n</tbody>\n</table><br><br>"
     },
     "metadata": {}
    },
    {
     "output_type": "stream",
     "name": "stderr",
     "text": [
      "\u001b[2m\u001b[36m(pid=3096)\u001b[0m /home/braedon/.local/lib/python3.8/site-packages/skimage/io/manage_plugins.py:23: UserWarning: Your installed pillow version is < 7.1.0. Several security issues (CVE-2020-11538, CVE-2020-10379, CVE-2020-10994, CVE-2020-10177) have been fixed in pillow 7.1.0 or higher. We recommend to upgrade this library.\n",
      "\u001b[2m\u001b[36m(pid=3096)\u001b[0m   from .collection import imread_collection_wrapper\n",
      "\u001b[2m\u001b[36m(pid=3096)\u001b[0m Starting epoch 1 / 1\n",
      "\u001b[2m\u001b[36m(pid=3096)\u001b[0m torch.Size([10, 3, 400, 267]) tensor([ 3, 11,  9,  9,  0,  3,  6,  3,  0,  3])\n",
      "\u001b[2m\u001b[36m(pid=3096)\u001b[0m torch.Size([10, 3, 400, 267]) tensor([0, 9, 3, 9, 1, 9, 9, 9, 3, 9])\n",
      "\u001b[2m\u001b[36m(pid=3096)\u001b[0m torch.Size([10, 3, 400, 267]) tensor([4, 6, 9, 9, 3, 9, 6, 3, 0, 9])\n",
      "\u001b[2m\u001b[36m(pid=3096)\u001b[0m torch.Size([10, 3, 400, 267]) tensor([3, 1, 9, 6, 9, 3, 3, 0, 0, 4])\n",
      "\u001b[2m\u001b[36m(pid=3096)\u001b[0m torch.Size([10, 3, 400, 267]) tensor([ 3,  9, 11,  1,  4,  9,  3,  1,  1,  4])\n",
      "\u001b[2m\u001b[36m(pid=3096)\u001b[0m t = 5, loss = 12.7788\n",
      "\u001b[2m\u001b[36m(pid=3096)\u001b[0m torch.Size([10, 3, 400, 267]) tensor([10,  9,  3,  9,  6,  1,  1,  0,  3,  1])\n",
      "\u001b[2m\u001b[36m(pid=3096)\u001b[0m torch.Size([10, 3, 400, 267]) tensor([9, 9, 2, 3, 1, 9, 1, 6, 4, 9])\n",
      "\u001b[2m\u001b[36m(pid=3096)\u001b[0m torch.Size([5, 3, 400, 267]) tensor([9, 6, 9, 0, 9])\n",
      "\u001b[2m\u001b[36m(pid=3096)\u001b[0m Checking accuracy on validation set\n",
      "Result for train_resnet_59a9c_00000:\n",
      "  date: 2021-05-14_13-15-02\n",
      "  done: false\n",
      "  experiment_id: 00be260e02a84a7cb8d34a9f40613567\n",
      "  hostname: jeremiah-v2-linux\n",
      "  iterations_since_restore: 1\n",
      "  mean_accuracy: 0.28\n",
      "  node_ip: 192.168.1.10\n",
      "  pid: 3096\n",
      "  time_since_restore: 305.6183319091797\n",
      "  time_this_iter_s: 305.6183319091797\n",
      "  time_total_s: 305.6183319091797\n",
      "  timestamp: 1621023302\n",
      "  timesteps_since_restore: 0\n",
      "  training_iteration: 1\n",
      "  trial_id: 59a9c_00000\n",
      "  \n"
     ]
    },
    {
     "output_type": "display_data",
     "data": {
      "text/plain": "<IPython.core.display.HTML object>",
      "text/html": "== Status ==<br>Memory usage on this node: 5.6/15.6 GiB<br>Using AsyncHyperBand: num_stopped=0\nBracket: Iter 64.000: None | Iter 16.000: None | Iter 4.000: None | Iter 1.000: 0.28<br>Resources requested: 1.0/8 CPUs, 0/1 GPUs, 0.0/8.22 GiB heap, 0.0/4.11 GiB objects (0.0/1.0 accelerator_type:GTX)<br>Result logdir: /home/braedon/ray_results/train_resnet_2021-05-14_13-09-55<br>Number of trials: 1/1 (1 RUNNING)<br><table>\n<thead>\n<tr><th>Trial name              </th><th>status  </th><th>loc              </th><th style=\"text-align: right;\">  lr</th><th style=\"text-align: right;\">  acc</th><th style=\"text-align: right;\">  iter</th><th style=\"text-align: right;\">  total time (s)</th></tr>\n</thead>\n<tbody>\n<tr><td>train_resnet_59a9c_00000</td><td>RUNNING </td><td>192.168.1.10:3096</td><td style=\"text-align: right;\"> 0.1</td><td style=\"text-align: right;\"> 0.28</td><td style=\"text-align: right;\">     1</td><td style=\"text-align: right;\">         305.618</td></tr>\n</tbody>\n</table><br><br>"
     },
     "metadata": {}
    },
    {
     "output_type": "stream",
     "name": "stdout",
     "text": [
      "\u001b[2m\u001b[36m(pid=3096)\u001b[0m Got 7 / 25 correct (28.00)\n",
      "\u001b[2m\u001b[36m(pid=3096)\u001b[0m Starting epoch 1 / 1\n",
      "\u001b[2m\u001b[36m(pid=3096)\u001b[0m torch.Size([10, 3, 400, 267]) tensor([ 3, 11,  9,  9,  0,  3,  6,  3,  0,  3])\n",
      "\u001b[2m\u001b[36m(pid=3096)\u001b[0m torch.Size([10, 3, 400, 267]) tensor([0, 9, 3, 9, 1, 9, 9, 9, 3, 9])\n",
      "\u001b[2m\u001b[36m(pid=3096)\u001b[0m torch.Size([10, 3, 400, 267]) tensor([4, 6, 9, 9, 3, 9, 6, 3, 0, 9])\n",
      "\u001b[2m\u001b[36m(pid=3096)\u001b[0m torch.Size([10, 3, 400, 267]) tensor([3, 1, 9, 6, 9, 3, 3, 0, 0, 4])\n",
      "\u001b[2m\u001b[36m(pid=3096)\u001b[0m torch.Size([10, 3, 400, 267]) tensor([ 3,  9, 11,  1,  4,  9,  3,  1,  1,  4])\n",
      "\u001b[2m\u001b[36m(pid=3096)\u001b[0m t = 5, loss = 12.6559\n",
      "\u001b[2m\u001b[36m(pid=3096)\u001b[0m torch.Size([10, 3, 400, 267]) tensor([10,  9,  3,  9,  6,  1,  1,  0,  3,  1])\n",
      "\u001b[2m\u001b[36m(pid=3096)\u001b[0m torch.Size([10, 3, 400, 267]) tensor([9, 9, 2, 3, 1, 9, 1, 6, 4, 9])\n",
      "\u001b[2m\u001b[36m(pid=3096)\u001b[0m torch.Size([5, 3, 400, 267]) tensor([9, 6, 9, 0, 9])\n",
      "\u001b[2m\u001b[36m(pid=3096)\u001b[0m Checking accuracy on validation set\n",
      "Result for train_resnet_59a9c_00000:\n",
      "  date: 2021-05-14_13-20-07\n",
      "  done: false\n",
      "  experiment_id: 00be260e02a84a7cb8d34a9f40613567\n",
      "  hostname: jeremiah-v2-linux\n",
      "  iterations_since_restore: 2\n",
      "  mean_accuracy: 0.32\n",
      "  node_ip: 192.168.1.10\n",
      "  pid: 3096\n",
      "  time_since_restore: 610.6825814247131\n",
      "  time_this_iter_s: 305.06424951553345\n",
      "  time_total_s: 610.6825814247131\n",
      "  timestamp: 1621023607\n",
      "  timesteps_since_restore: 0\n",
      "  training_iteration: 2\n",
      "  trial_id: 59a9c_00000\n",
      "  \n"
     ]
    },
    {
     "output_type": "display_data",
     "data": {
      "text/plain": "<IPython.core.display.HTML object>",
      "text/html": "== Status ==<br>Memory usage on this node: 5.9/15.6 GiB<br>Using AsyncHyperBand: num_stopped=0\nBracket: Iter 64.000: None | Iter 16.000: None | Iter 4.000: None | Iter 1.000: 0.28<br>Resources requested: 1.0/8 CPUs, 0/1 GPUs, 0.0/8.22 GiB heap, 0.0/4.11 GiB objects (0.0/1.0 accelerator_type:GTX)<br>Result logdir: /home/braedon/ray_results/train_resnet_2021-05-14_13-09-55<br>Number of trials: 1/1 (1 RUNNING)<br><table>\n<thead>\n<tr><th>Trial name              </th><th>status  </th><th>loc              </th><th style=\"text-align: right;\">  lr</th><th style=\"text-align: right;\">  acc</th><th style=\"text-align: right;\">  iter</th><th style=\"text-align: right;\">  total time (s)</th></tr>\n</thead>\n<tbody>\n<tr><td>train_resnet_59a9c_00000</td><td>RUNNING </td><td>192.168.1.10:3096</td><td style=\"text-align: right;\"> 0.1</td><td style=\"text-align: right;\"> 0.32</td><td style=\"text-align: right;\">     2</td><td style=\"text-align: right;\">         610.683</td></tr>\n</tbody>\n</table><br><br>"
     },
     "metadata": {}
    },
    {
     "output_type": "stream",
     "name": "stdout",
     "text": [
      "\u001b[2m\u001b[36m(pid=3096)\u001b[0m Got 8 / 25 correct (32.00)\n",
      "\u001b[2m\u001b[36m(pid=3096)\u001b[0m Starting epoch 1 / 1\n",
      "\u001b[2m\u001b[36m(pid=3096)\u001b[0m torch.Size([10, 3, 400, 267]) tensor([ 3, 11,  9,  9,  0,  3,  6,  3,  0,  3])\n",
      "\u001b[2m\u001b[36m(pid=3096)\u001b[0m torch.Size([10, 3, 400, 267]) tensor([0, 9, 3, 9, 1, 9, 9, 9, 3, 9])\n",
      "\u001b[2m\u001b[36m(pid=3096)\u001b[0m torch.Size([10, 3, 400, 267]) tensor([4, 6, 9, 9, 3, 9, 6, 3, 0, 9])\n",
      "\u001b[2m\u001b[36m(pid=3096)\u001b[0m torch.Size([10, 3, 400, 267]) tensor([3, 1, 9, 6, 9, 3, 3, 0, 0, 4])\n",
      "\u001b[2m\u001b[36m(pid=3096)\u001b[0m torch.Size([10, 3, 400, 267]) tensor([ 3,  9, 11,  1,  4,  9,  3,  1,  1,  4])\n",
      "\u001b[2m\u001b[36m(pid=3096)\u001b[0m t = 5, loss = 7.3940\n",
      "\u001b[2m\u001b[36m(pid=3096)\u001b[0m torch.Size([10, 3, 400, 267]) tensor([10,  9,  3,  9,  6,  1,  1,  0,  3,  1])\n",
      "\u001b[2m\u001b[36m(pid=3096)\u001b[0m torch.Size([10, 3, 400, 267]) tensor([9, 9, 2, 3, 1, 9, 1, 6, 4, 9])\n",
      "\u001b[2m\u001b[36m(pid=3096)\u001b[0m torch.Size([5, 3, 400, 267]) tensor([9, 6, 9, 0, 9])\n",
      "\u001b[2m\u001b[36m(pid=3096)\u001b[0m Checking accuracy on validation set\n",
      "Result for train_resnet_59a9c_00000:\n",
      "  date: 2021-05-14_13-25-13\n",
      "  done: false\n",
      "  experiment_id: 00be260e02a84a7cb8d34a9f40613567\n",
      "  hostname: jeremiah-v2-linux\n",
      "  iterations_since_restore: 3\n",
      "  mean_accuracy: 0.32\n",
      "  node_ip: 192.168.1.10\n",
      "  pid: 3096\n",
      "  time_since_restore: 916.4134533405304\n",
      "  time_this_iter_s: 305.73087191581726\n",
      "  time_total_s: 916.4134533405304\n",
      "  timestamp: 1621023913\n",
      "  timesteps_since_restore: 0\n",
      "  training_iteration: 3\n",
      "  trial_id: 59a9c_00000\n",
      "  \n"
     ]
    },
    {
     "output_type": "display_data",
     "data": {
      "text/plain": "<IPython.core.display.HTML object>",
      "text/html": "== Status ==<br>Memory usage on this node: 6.1/15.6 GiB<br>Using AsyncHyperBand: num_stopped=0\nBracket: Iter 64.000: None | Iter 16.000: None | Iter 4.000: None | Iter 1.000: 0.28<br>Resources requested: 1.0/8 CPUs, 0/1 GPUs, 0.0/8.22 GiB heap, 0.0/4.11 GiB objects (0.0/1.0 accelerator_type:GTX)<br>Result logdir: /home/braedon/ray_results/train_resnet_2021-05-14_13-09-55<br>Number of trials: 1/1 (1 RUNNING)<br><table>\n<thead>\n<tr><th>Trial name              </th><th>status  </th><th>loc              </th><th style=\"text-align: right;\">  lr</th><th style=\"text-align: right;\">  acc</th><th style=\"text-align: right;\">  iter</th><th style=\"text-align: right;\">  total time (s)</th></tr>\n</thead>\n<tbody>\n<tr><td>train_resnet_59a9c_00000</td><td>RUNNING </td><td>192.168.1.10:3096</td><td style=\"text-align: right;\"> 0.1</td><td style=\"text-align: right;\"> 0.32</td><td style=\"text-align: right;\">     3</td><td style=\"text-align: right;\">         916.413</td></tr>\n</tbody>\n</table><br><br>"
     },
     "metadata": {}
    },
    {
     "output_type": "stream",
     "name": "stdout",
     "text": [
      "\u001b[2m\u001b[36m(pid=3096)\u001b[0m Got 8 / 25 correct (32.00)\n",
      "\u001b[2m\u001b[36m(pid=3096)\u001b[0m Starting epoch 1 / 1\n",
      "\u001b[2m\u001b[36m(pid=3096)\u001b[0m torch.Size([10, 3, 400, 267]) tensor([ 3, 11,  9,  9,  0,  3,  6,  3,  0,  3])\n",
      "\u001b[2m\u001b[36m(pid=3096)\u001b[0m torch.Size([10, 3, 400, 267]) tensor([0, 9, 3, 9, 1, 9, 9, 9, 3, 9])\n",
      "\u001b[2m\u001b[36m(pid=3096)\u001b[0m torch.Size([10, 3, 400, 267]) tensor([4, 6, 9, 9, 3, 9, 6, 3, 0, 9])\n",
      "\u001b[2m\u001b[36m(pid=3096)\u001b[0m torch.Size([10, 3, 400, 267]) tensor([3, 1, 9, 6, 9, 3, 3, 0, 0, 4])\n",
      "\u001b[2m\u001b[36m(pid=3096)\u001b[0m torch.Size([10, 3, 400, 267]) tensor([ 3,  9, 11,  1,  4,  9,  3,  1,  1,  4])\n",
      "\u001b[2m\u001b[36m(pid=3096)\u001b[0m t = 5, loss = 4.7921\n",
      "\u001b[2m\u001b[36m(pid=3096)\u001b[0m torch.Size([10, 3, 400, 267]) tensor([10,  9,  3,  9,  6,  1,  1,  0,  3,  1])\n",
      "\u001b[2m\u001b[36m(pid=3096)\u001b[0m torch.Size([10, 3, 400, 267]) tensor([9, 9, 2, 3, 1, 9, 1, 6, 4, 9])\n",
      "\u001b[2m\u001b[36m(pid=3096)\u001b[0m torch.Size([5, 3, 400, 267]) tensor([9, 6, 9, 0, 9])\n",
      "\u001b[2m\u001b[36m(pid=3096)\u001b[0m Checking accuracy on validation set\n",
      "Result for train_resnet_59a9c_00000:\n",
      "  date: 2021-05-14_13-30-11\n",
      "  done: false\n",
      "  experiment_id: 00be260e02a84a7cb8d34a9f40613567\n",
      "  hostname: jeremiah-v2-linux\n",
      "  iterations_since_restore: 4\n",
      "  mean_accuracy: 0.08\n",
      "  node_ip: 192.168.1.10\n",
      "  pid: 3096\n",
      "  time_since_restore: 1215.2282452583313\n",
      "  time_this_iter_s: 298.8147919178009\n",
      "  time_total_s: 1215.2282452583313\n",
      "  timestamp: 1621024211\n",
      "  timesteps_since_restore: 0\n",
      "  training_iteration: 4\n",
      "  trial_id: 59a9c_00000\n",
      "  \n"
     ]
    },
    {
     "output_type": "display_data",
     "data": {
      "text/plain": "<IPython.core.display.HTML object>",
      "text/html": "== Status ==<br>Memory usage on this node: 6.2/15.6 GiB<br>Using AsyncHyperBand: num_stopped=0\nBracket: Iter 64.000: None | Iter 16.000: None | Iter 4.000: 0.08 | Iter 1.000: 0.28<br>Resources requested: 1.0/8 CPUs, 0/1 GPUs, 0.0/8.22 GiB heap, 0.0/4.11 GiB objects (0.0/1.0 accelerator_type:GTX)<br>Result logdir: /home/braedon/ray_results/train_resnet_2021-05-14_13-09-55<br>Number of trials: 1/1 (1 RUNNING)<br><table>\n<thead>\n<tr><th>Trial name              </th><th>status  </th><th>loc              </th><th style=\"text-align: right;\">  lr</th><th style=\"text-align: right;\">  acc</th><th style=\"text-align: right;\">  iter</th><th style=\"text-align: right;\">  total time (s)</th></tr>\n</thead>\n<tbody>\n<tr><td>train_resnet_59a9c_00000</td><td>RUNNING </td><td>192.168.1.10:3096</td><td style=\"text-align: right;\"> 0.1</td><td style=\"text-align: right;\"> 0.08</td><td style=\"text-align: right;\">     4</td><td style=\"text-align: right;\">         1215.23</td></tr>\n</tbody>\n</table><br><br>"
     },
     "metadata": {}
    },
    {
     "output_type": "stream",
     "name": "stdout",
     "text": [
      "\u001b[2m\u001b[36m(pid=3096)\u001b[0m Got 2 / 25 correct (8.00)\n",
      "\u001b[2m\u001b[36m(pid=3096)\u001b[0m Starting epoch 1 / 1\n",
      "\u001b[2m\u001b[36m(pid=3096)\u001b[0m torch.Size([10, 3, 400, 267]) tensor([ 3, 11,  9,  9,  0,  3,  6,  3,  0,  3])\n",
      "\u001b[2m\u001b[36m(pid=3096)\u001b[0m torch.Size([10, 3, 400, 267]) tensor([0, 9, 3, 9, 1, 9, 9, 9, 3, 9])\n",
      "\u001b[2m\u001b[36m(pid=3096)\u001b[0m torch.Size([10, 3, 400, 267]) tensor([4, 6, 9, 9, 3, 9, 6, 3, 0, 9])\n",
      "\u001b[2m\u001b[36m(pid=3096)\u001b[0m torch.Size([10, 3, 400, 267]) tensor([3, 1, 9, 6, 9, 3, 3, 0, 0, 4])\n",
      "\u001b[2m\u001b[36m(pid=3096)\u001b[0m torch.Size([10, 3, 400, 267]) tensor([ 3,  9, 11,  1,  4,  9,  3,  1,  1,  4])\n",
      "\u001b[2m\u001b[36m(pid=3096)\u001b[0m t = 5, loss = 3.5519\n",
      "\u001b[2m\u001b[36m(pid=3096)\u001b[0m torch.Size([10, 3, 400, 267]) tensor([10,  9,  3,  9,  6,  1,  1,  0,  3,  1])\n",
      "\u001b[2m\u001b[36m(pid=3096)\u001b[0m torch.Size([10, 3, 400, 267]) tensor([9, 9, 2, 3, 1, 9, 1, 6, 4, 9])\n",
      "\u001b[2m\u001b[36m(pid=3096)\u001b[0m torch.Size([5, 3, 400, 267]) tensor([9, 6, 9, 0, 9])\n",
      "\u001b[2m\u001b[36m(pid=3096)\u001b[0m Checking accuracy on validation set\n",
      "Result for train_resnet_59a9c_00000:\n",
      "  date: 2021-05-14_13-35-08\n",
      "  done: false\n",
      "  experiment_id: 00be260e02a84a7cb8d34a9f40613567\n",
      "  hostname: jeremiah-v2-linux\n",
      "  iterations_since_restore: 5\n",
      "  mean_accuracy: 0.32\n",
      "  node_ip: 192.168.1.10\n",
      "  pid: 3096\n",
      "  time_since_restore: 1512.2594420909882\n",
      "  time_this_iter_s: 297.03119683265686\n",
      "  time_total_s: 1512.2594420909882\n",
      "  timestamp: 1621024508\n",
      "  timesteps_since_restore: 0\n",
      "  training_iteration: 5\n",
      "  trial_id: 59a9c_00000\n",
      "  \n"
     ]
    },
    {
     "output_type": "display_data",
     "data": {
      "text/plain": "<IPython.core.display.HTML object>",
      "text/html": "== Status ==<br>Memory usage on this node: 6.2/15.6 GiB<br>Using AsyncHyperBand: num_stopped=0\nBracket: Iter 64.000: None | Iter 16.000: None | Iter 4.000: 0.08 | Iter 1.000: 0.28<br>Resources requested: 1.0/8 CPUs, 0/1 GPUs, 0.0/8.22 GiB heap, 0.0/4.11 GiB objects (0.0/1.0 accelerator_type:GTX)<br>Result logdir: /home/braedon/ray_results/train_resnet_2021-05-14_13-09-55<br>Number of trials: 1/1 (1 RUNNING)<br><table>\n<thead>\n<tr><th>Trial name              </th><th>status  </th><th>loc              </th><th style=\"text-align: right;\">  lr</th><th style=\"text-align: right;\">  acc</th><th style=\"text-align: right;\">  iter</th><th style=\"text-align: right;\">  total time (s)</th></tr>\n</thead>\n<tbody>\n<tr><td>train_resnet_59a9c_00000</td><td>RUNNING </td><td>192.168.1.10:3096</td><td style=\"text-align: right;\"> 0.1</td><td style=\"text-align: right;\"> 0.32</td><td style=\"text-align: right;\">     5</td><td style=\"text-align: right;\">         1512.26</td></tr>\n</tbody>\n</table><br><br>"
     },
     "metadata": {}
    },
    {
     "output_type": "stream",
     "name": "stdout",
     "text": [
      "\u001b[2m\u001b[36m(pid=3096)\u001b[0m Got 8 / 25 correct (32.00)\n",
      "\u001b[2m\u001b[36m(pid=3096)\u001b[0m Starting epoch 1 / 1\n",
      "\u001b[2m\u001b[36m(pid=3096)\u001b[0m torch.Size([10, 3, 400, 267]) tensor([ 3, 11,  9,  9,  0,  3,  6,  3,  0,  3])\n",
      "\u001b[2m\u001b[36m(pid=3096)\u001b[0m torch.Size([10, 3, 400, 267]) tensor([0, 9, 3, 9, 1, 9, 9, 9, 3, 9])\n",
      "\u001b[2m\u001b[36m(pid=3096)\u001b[0m torch.Size([10, 3, 400, 267]) tensor([4, 6, 9, 9, 3, 9, 6, 3, 0, 9])\n",
      "\u001b[2m\u001b[36m(pid=3096)\u001b[0m torch.Size([10, 3, 400, 267]) tensor([3, 1, 9, 6, 9, 3, 3, 0, 0, 4])\n",
      "\u001b[2m\u001b[36m(pid=3096)\u001b[0m torch.Size([10, 3, 400, 267]) tensor([ 3,  9, 11,  1,  4,  9,  3,  1,  1,  4])\n",
      "\u001b[2m\u001b[36m(pid=3096)\u001b[0m t = 5, loss = 3.3158\n",
      "\u001b[2m\u001b[36m(pid=3096)\u001b[0m torch.Size([10, 3, 400, 267]) tensor([10,  9,  3,  9,  6,  1,  1,  0,  3,  1])\n",
      "\u001b[2m\u001b[36m(pid=3096)\u001b[0m torch.Size([10, 3, 400, 267]) tensor([9, 9, 2, 3, 1, 9, 1, 6, 4, 9])\n",
      "\u001b[2m\u001b[36m(pid=3096)\u001b[0m torch.Size([5, 3, 400, 267]) tensor([9, 6, 9, 0, 9])\n",
      "\u001b[2m\u001b[36m(pid=3096)\u001b[0m Checking accuracy on validation set\n",
      "Result for train_resnet_59a9c_00000:\n",
      "  date: 2021-05-14_13-40-06\n",
      "  done: false\n",
      "  experiment_id: 00be260e02a84a7cb8d34a9f40613567\n",
      "  hostname: jeremiah-v2-linux\n",
      "  iterations_since_restore: 6\n",
      "  mean_accuracy: 0.32\n",
      "  node_ip: 192.168.1.10\n",
      "  pid: 3096\n",
      "  time_since_restore: 1809.6866784095764\n",
      "  time_this_iter_s: 297.42723631858826\n",
      "  time_total_s: 1809.6866784095764\n",
      "  timestamp: 1621024806\n",
      "  timesteps_since_restore: 0\n",
      "  training_iteration: 6\n",
      "  trial_id: 59a9c_00000\n",
      "  \n"
     ]
    },
    {
     "output_type": "display_data",
     "data": {
      "text/plain": "<IPython.core.display.HTML object>",
      "text/html": "== Status ==<br>Memory usage on this node: 6.2/15.6 GiB<br>Using AsyncHyperBand: num_stopped=0\nBracket: Iter 64.000: None | Iter 16.000: None | Iter 4.000: 0.08 | Iter 1.000: 0.28<br>Resources requested: 1.0/8 CPUs, 0/1 GPUs, 0.0/8.22 GiB heap, 0.0/4.11 GiB objects (0.0/1.0 accelerator_type:GTX)<br>Result logdir: /home/braedon/ray_results/train_resnet_2021-05-14_13-09-55<br>Number of trials: 1/1 (1 RUNNING)<br><table>\n<thead>\n<tr><th>Trial name              </th><th>status  </th><th>loc              </th><th style=\"text-align: right;\">  lr</th><th style=\"text-align: right;\">  acc</th><th style=\"text-align: right;\">  iter</th><th style=\"text-align: right;\">  total time (s)</th></tr>\n</thead>\n<tbody>\n<tr><td>train_resnet_59a9c_00000</td><td>RUNNING </td><td>192.168.1.10:3096</td><td style=\"text-align: right;\"> 0.1</td><td style=\"text-align: right;\"> 0.32</td><td style=\"text-align: right;\">     6</td><td style=\"text-align: right;\">         1809.69</td></tr>\n</tbody>\n</table><br><br>"
     },
     "metadata": {}
    },
    {
     "output_type": "stream",
     "name": "stdout",
     "text": [
      "\u001b[2m\u001b[36m(pid=3096)\u001b[0m Got 8 / 25 correct (32.00)\n",
      "\u001b[2m\u001b[36m(pid=3096)\u001b[0m Starting epoch 1 / 1\n",
      "\u001b[2m\u001b[36m(pid=3096)\u001b[0m torch.Size([10, 3, 400, 267]) tensor([ 3, 11,  9,  9,  0,  3,  6,  3,  0,  3])\n",
      "\u001b[2m\u001b[36m(pid=3096)\u001b[0m torch.Size([10, 3, 400, 267]) tensor([0, 9, 3, 9, 1, 9, 9, 9, 3, 9])\n",
      "\u001b[2m\u001b[36m(pid=3096)\u001b[0m torch.Size([10, 3, 400, 267]) tensor([4, 6, 9, 9, 3, 9, 6, 3, 0, 9])\n",
      "\u001b[2m\u001b[36m(pid=3096)\u001b[0m torch.Size([10, 3, 400, 267]) tensor([3, 1, 9, 6, 9, 3, 3, 0, 0, 4])\n",
      "\u001b[2m\u001b[36m(pid=3096)\u001b[0m torch.Size([10, 3, 400, 267]) tensor([ 3,  9, 11,  1,  4,  9,  3,  1,  1,  4])\n",
      "\u001b[2m\u001b[36m(pid=3096)\u001b[0m t = 5, loss = 3.2229\n",
      "\u001b[2m\u001b[36m(pid=3096)\u001b[0m torch.Size([10, 3, 400, 267]) tensor([10,  9,  3,  9,  6,  1,  1,  0,  3,  1])\n",
      "\u001b[2m\u001b[36m(pid=3096)\u001b[0m torch.Size([10, 3, 400, 267]) tensor([9, 9, 2, 3, 1, 9, 1, 6, 4, 9])\n",
      "\u001b[2m\u001b[36m(pid=3096)\u001b[0m torch.Size([5, 3, 400, 267]) tensor([9, 6, 9, 0, 9])\n",
      "\u001b[2m\u001b[36m(pid=3096)\u001b[0m Checking accuracy on validation set\n",
      "Result for train_resnet_59a9c_00000:\n",
      "  date: 2021-05-14_13-45-02\n",
      "  done: false\n",
      "  experiment_id: 00be260e02a84a7cb8d34a9f40613567\n",
      "  hostname: jeremiah-v2-linux\n",
      "  iterations_since_restore: 7\n",
      "  mean_accuracy: 0.32\n",
      "  node_ip: 192.168.1.10\n",
      "  pid: 3096\n",
      "  time_since_restore: 2105.97460603714\n",
      "  time_this_iter_s: 296.2879276275635\n",
      "  time_total_s: 2105.97460603714\n",
      "  timestamp: 1621025102\n",
      "  timesteps_since_restore: 0\n",
      "  training_iteration: 7\n",
      "  trial_id: 59a9c_00000\n",
      "  \n"
     ]
    },
    {
     "output_type": "display_data",
     "data": {
      "text/plain": "<IPython.core.display.HTML object>",
      "text/html": "== Status ==<br>Memory usage on this node: 6.3/15.6 GiB<br>Using AsyncHyperBand: num_stopped=0\nBracket: Iter 64.000: None | Iter 16.000: None | Iter 4.000: 0.08 | Iter 1.000: 0.28<br>Resources requested: 1.0/8 CPUs, 0/1 GPUs, 0.0/8.22 GiB heap, 0.0/4.11 GiB objects (0.0/1.0 accelerator_type:GTX)<br>Result logdir: /home/braedon/ray_results/train_resnet_2021-05-14_13-09-55<br>Number of trials: 1/1 (1 RUNNING)<br><table>\n<thead>\n<tr><th>Trial name              </th><th>status  </th><th>loc              </th><th style=\"text-align: right;\">  lr</th><th style=\"text-align: right;\">  acc</th><th style=\"text-align: right;\">  iter</th><th style=\"text-align: right;\">  total time (s)</th></tr>\n</thead>\n<tbody>\n<tr><td>train_resnet_59a9c_00000</td><td>RUNNING </td><td>192.168.1.10:3096</td><td style=\"text-align: right;\"> 0.1</td><td style=\"text-align: right;\"> 0.32</td><td style=\"text-align: right;\">     7</td><td style=\"text-align: right;\">         2105.97</td></tr>\n</tbody>\n</table><br><br>"
     },
     "metadata": {}
    },
    {
     "output_type": "stream",
     "name": "stdout",
     "text": [
      "\u001b[2m\u001b[36m(pid=3096)\u001b[0m Got 8 / 25 correct (32.00)\n",
      "\u001b[2m\u001b[36m(pid=3096)\u001b[0m Starting epoch 1 / 1\n",
      "\u001b[2m\u001b[36m(pid=3096)\u001b[0m torch.Size([10, 3, 400, 267]) tensor([ 3, 11,  9,  9,  0,  3,  6,  3,  0,  3])\n",
      "\u001b[2m\u001b[36m(pid=3096)\u001b[0m torch.Size([10, 3, 400, 267]) tensor([0, 9, 3, 9, 1, 9, 9, 9, 3, 9])\n",
      "\u001b[2m\u001b[36m(pid=3096)\u001b[0m torch.Size([10, 3, 400, 267]) tensor([4, 6, 9, 9, 3, 9, 6, 3, 0, 9])\n",
      "\u001b[2m\u001b[36m(pid=3096)\u001b[0m torch.Size([10, 3, 400, 267]) tensor([3, 1, 9, 6, 9, 3, 3, 0, 0, 4])\n",
      "\u001b[2m\u001b[36m(pid=3096)\u001b[0m torch.Size([10, 3, 400, 267]) tensor([ 3,  9, 11,  1,  4,  9,  3,  1,  1,  4])\n",
      "\u001b[2m\u001b[36m(pid=3096)\u001b[0m t = 5, loss = 2.6367\n",
      "\u001b[2m\u001b[36m(pid=3096)\u001b[0m torch.Size([10, 3, 400, 267]) tensor([10,  9,  3,  9,  6,  1,  1,  0,  3,  1])\n",
      "\u001b[2m\u001b[36m(pid=3096)\u001b[0m torch.Size([10, 3, 400, 267]) tensor([9, 9, 2, 3, 1, 9, 1, 6, 4, 9])\n",
      "\u001b[2m\u001b[36m(pid=3096)\u001b[0m torch.Size([5, 3, 400, 267]) tensor([9, 6, 9, 0, 9])\n",
      "\u001b[2m\u001b[36m(pid=3096)\u001b[0m Checking accuracy on validation set\n",
      "Result for train_resnet_59a9c_00000:\n",
      "  date: 2021-05-14_13-49-59\n",
      "  done: false\n",
      "  experiment_id: 00be260e02a84a7cb8d34a9f40613567\n",
      "  hostname: jeremiah-v2-linux\n",
      "  iterations_since_restore: 8\n",
      "  mean_accuracy: 0.28\n",
      "  node_ip: 192.168.1.10\n",
      "  pid: 3096\n",
      "  time_since_restore: 2402.552525997162\n",
      "  time_this_iter_s: 296.577919960022\n",
      "  time_total_s: 2402.552525997162\n",
      "  timestamp: 1621025399\n",
      "  timesteps_since_restore: 0\n",
      "  training_iteration: 8\n",
      "  trial_id: 59a9c_00000\n",
      "  \n"
     ]
    },
    {
     "output_type": "display_data",
     "data": {
      "text/plain": "<IPython.core.display.HTML object>",
      "text/html": "== Status ==<br>Memory usage on this node: 6.4/15.6 GiB<br>Using AsyncHyperBand: num_stopped=0\nBracket: Iter 64.000: None | Iter 16.000: None | Iter 4.000: 0.08 | Iter 1.000: 0.28<br>Resources requested: 1.0/8 CPUs, 0/1 GPUs, 0.0/8.22 GiB heap, 0.0/4.11 GiB objects (0.0/1.0 accelerator_type:GTX)<br>Result logdir: /home/braedon/ray_results/train_resnet_2021-05-14_13-09-55<br>Number of trials: 1/1 (1 RUNNING)<br><table>\n<thead>\n<tr><th>Trial name              </th><th>status  </th><th>loc              </th><th style=\"text-align: right;\">  lr</th><th style=\"text-align: right;\">  acc</th><th style=\"text-align: right;\">  iter</th><th style=\"text-align: right;\">  total time (s)</th></tr>\n</thead>\n<tbody>\n<tr><td>train_resnet_59a9c_00000</td><td>RUNNING </td><td>192.168.1.10:3096</td><td style=\"text-align: right;\"> 0.1</td><td style=\"text-align: right;\"> 0.28</td><td style=\"text-align: right;\">     8</td><td style=\"text-align: right;\">         2402.55</td></tr>\n</tbody>\n</table><br><br>"
     },
     "metadata": {}
    },
    {
     "output_type": "stream",
     "name": "stdout",
     "text": [
      "\u001b[2m\u001b[36m(pid=3096)\u001b[0m Got 7 / 25 correct (28.00)\n",
      "\u001b[2m\u001b[36m(pid=3096)\u001b[0m Starting epoch 1 / 1\n",
      "\u001b[2m\u001b[36m(pid=3096)\u001b[0m torch.Size([10, 3, 400, 267]) tensor([ 3, 11,  9,  9,  0,  3,  6,  3,  0,  3])\n",
      "\u001b[2m\u001b[36m(pid=3096)\u001b[0m torch.Size([10, 3, 400, 267]) tensor([0, 9, 3, 9, 1, 9, 9, 9, 3, 9])\n",
      "\u001b[2m\u001b[36m(pid=3096)\u001b[0m torch.Size([10, 3, 400, 267]) tensor([4, 6, 9, 9, 3, 9, 6, 3, 0, 9])\n",
      "\u001b[2m\u001b[36m(pid=3096)\u001b[0m torch.Size([10, 3, 400, 267]) tensor([3, 1, 9, 6, 9, 3, 3, 0, 0, 4])\n",
      "\u001b[2m\u001b[36m(pid=3096)\u001b[0m torch.Size([10, 3, 400, 267]) tensor([ 3,  9, 11,  1,  4,  9,  3,  1,  1,  4])\n",
      "\u001b[2m\u001b[36m(pid=3096)\u001b[0m t = 5, loss = 2.5259\n",
      "\u001b[2m\u001b[36m(pid=3096)\u001b[0m torch.Size([10, 3, 400, 267]) tensor([10,  9,  3,  9,  6,  1,  1,  0,  3,  1])\n",
      "\u001b[2m\u001b[36m(pid=3096)\u001b[0m torch.Size([10, 3, 400, 267]) tensor([9, 9, 2, 3, 1, 9, 1, 6, 4, 9])\n",
      "\u001b[2m\u001b[36m(pid=3096)\u001b[0m torch.Size([5, 3, 400, 267]) tensor([9, 6, 9, 0, 9])\n",
      "\u001b[2m\u001b[36m(pid=3096)\u001b[0m Checking accuracy on validation set\n",
      "Result for train_resnet_59a9c_00000:\n",
      "  date: 2021-05-14_13-54-55\n",
      "  done: false\n",
      "  experiment_id: 00be260e02a84a7cb8d34a9f40613567\n",
      "  hostname: jeremiah-v2-linux\n",
      "  iterations_since_restore: 9\n",
      "  mean_accuracy: 0.32\n",
      "  node_ip: 192.168.1.10\n",
      "  pid: 3096\n",
      "  time_since_restore: 2698.6879613399506\n",
      "  time_this_iter_s: 296.1354353427887\n",
      "  time_total_s: 2698.6879613399506\n",
      "  timestamp: 1621025695\n",
      "  timesteps_since_restore: 0\n",
      "  training_iteration: 9\n",
      "  trial_id: 59a9c_00000\n",
      "  \n"
     ]
    },
    {
     "output_type": "display_data",
     "data": {
      "text/plain": "<IPython.core.display.HTML object>",
      "text/html": "== Status ==<br>Memory usage on this node: 6.3/15.6 GiB<br>Using AsyncHyperBand: num_stopped=0\nBracket: Iter 64.000: None | Iter 16.000: None | Iter 4.000: 0.08 | Iter 1.000: 0.28<br>Resources requested: 1.0/8 CPUs, 0/1 GPUs, 0.0/8.22 GiB heap, 0.0/4.11 GiB objects (0.0/1.0 accelerator_type:GTX)<br>Result logdir: /home/braedon/ray_results/train_resnet_2021-05-14_13-09-55<br>Number of trials: 1/1 (1 RUNNING)<br><table>\n<thead>\n<tr><th>Trial name              </th><th>status  </th><th>loc              </th><th style=\"text-align: right;\">  lr</th><th style=\"text-align: right;\">  acc</th><th style=\"text-align: right;\">  iter</th><th style=\"text-align: right;\">  total time (s)</th></tr>\n</thead>\n<tbody>\n<tr><td>train_resnet_59a9c_00000</td><td>RUNNING </td><td>192.168.1.10:3096</td><td style=\"text-align: right;\"> 0.1</td><td style=\"text-align: right;\"> 0.32</td><td style=\"text-align: right;\">     9</td><td style=\"text-align: right;\">         2698.69</td></tr>\n</tbody>\n</table><br><br>"
     },
     "metadata": {}
    },
    {
     "output_type": "stream",
     "name": "stdout",
     "text": [
      "\u001b[2m\u001b[36m(pid=3096)\u001b[0m Got 8 / 25 correct (32.00)\n",
      "\u001b[2m\u001b[36m(pid=3096)\u001b[0m Starting epoch 1 / 1\n",
      "\u001b[2m\u001b[36m(pid=3096)\u001b[0m torch.Size([10, 3, 400, 267]) tensor([ 3, 11,  9,  9,  0,  3,  6,  3,  0,  3])\n",
      "\u001b[2m\u001b[36m(pid=3096)\u001b[0m torch.Size([10, 3, 400, 267]) tensor([0, 9, 3, 9, 1, 9, 9, 9, 3, 9])\n",
      "\u001b[2m\u001b[36m(pid=3096)\u001b[0m torch.Size([10, 3, 400, 267]) tensor([4, 6, 9, 9, 3, 9, 6, 3, 0, 9])\n",
      "\u001b[2m\u001b[36m(pid=3096)\u001b[0m torch.Size([10, 3, 400, 267]) tensor([3, 1, 9, 6, 9, 3, 3, 0, 0, 4])\n",
      "\u001b[2m\u001b[36m(pid=3096)\u001b[0m torch.Size([10, 3, 400, 267]) tensor([ 3,  9, 11,  1,  4,  9,  3,  1,  1,  4])\n",
      "\u001b[2m\u001b[36m(pid=3096)\u001b[0m t = 5, loss = 2.3092\n",
      "\u001b[2m\u001b[36m(pid=3096)\u001b[0m torch.Size([10, 3, 400, 267]) tensor([10,  9,  3,  9,  6,  1,  1,  0,  3,  1])\n",
      "\u001b[2m\u001b[36m(pid=3096)\u001b[0m torch.Size([10, 3, 400, 267]) tensor([9, 9, 2, 3, 1, 9, 1, 6, 4, 9])\n",
      "\u001b[2m\u001b[36m(pid=3096)\u001b[0m torch.Size([5, 3, 400, 267]) tensor([9, 6, 9, 0, 9])\n",
      "\u001b[2m\u001b[36m(pid=3096)\u001b[0m Checking accuracy on validation set\n",
      "Result for train_resnet_59a9c_00000:\n",
      "  date: 2021-05-14_13-59-52\n",
      "  done: false\n",
      "  experiment_id: 00be260e02a84a7cb8d34a9f40613567\n",
      "  hostname: jeremiah-v2-linux\n",
      "  iterations_since_restore: 10\n",
      "  mean_accuracy: 0.32\n",
      "  node_ip: 192.168.1.10\n",
      "  pid: 3096\n",
      "  time_since_restore: 2995.4186906814575\n",
      "  time_this_iter_s: 296.73072934150696\n",
      "  time_total_s: 2995.4186906814575\n",
      "  timestamp: 1621025992\n",
      "  timesteps_since_restore: 0\n",
      "  training_iteration: 10\n",
      "  trial_id: 59a9c_00000\n",
      "  \n"
     ]
    },
    {
     "output_type": "display_data",
     "data": {
      "text/plain": "<IPython.core.display.HTML object>",
      "text/html": "== Status ==<br>Memory usage on this node: 6.3/15.6 GiB<br>Using AsyncHyperBand: num_stopped=0\nBracket: Iter 64.000: None | Iter 16.000: None | Iter 4.000: 0.08 | Iter 1.000: 0.28<br>Resources requested: 1.0/8 CPUs, 0/1 GPUs, 0.0/8.22 GiB heap, 0.0/4.11 GiB objects (0.0/1.0 accelerator_type:GTX)<br>Result logdir: /home/braedon/ray_results/train_resnet_2021-05-14_13-09-55<br>Number of trials: 1/1 (1 RUNNING)<br><table>\n<thead>\n<tr><th>Trial name              </th><th>status  </th><th>loc              </th><th style=\"text-align: right;\">  lr</th><th style=\"text-align: right;\">  acc</th><th style=\"text-align: right;\">  iter</th><th style=\"text-align: right;\">  total time (s)</th></tr>\n</thead>\n<tbody>\n<tr><td>train_resnet_59a9c_00000</td><td>RUNNING </td><td>192.168.1.10:3096</td><td style=\"text-align: right;\"> 0.1</td><td style=\"text-align: right;\"> 0.32</td><td style=\"text-align: right;\">    10</td><td style=\"text-align: right;\">         2995.42</td></tr>\n</tbody>\n</table><br><br>"
     },
     "metadata": {}
    },
    {
     "output_type": "stream",
     "name": "stdout",
     "text": [
      "Result for train_resnet_59a9c_00000:\n  date: 2021-05-14_13-59-52\n  done: true\n  experiment_id: 00be260e02a84a7cb8d34a9f40613567\n  experiment_tag: 0_lr=0.1\n  hostname: jeremiah-v2-linux\n  iterations_since_restore: 10\n  mean_accuracy: 0.32\n  node_ip: 192.168.1.10\n  pid: 3096\n  time_since_restore: 2995.4186906814575\n  time_this_iter_s: 296.73072934150696\n  time_total_s: 2995.4186906814575\n  timestamp: 1621025992\n  timesteps_since_restore: 0\n  training_iteration: 10\n  trial_id: 59a9c_00000\n  \n"
     ]
    },
    {
     "output_type": "display_data",
     "data": {
      "text/plain": "<IPython.core.display.HTML object>",
      "text/html": "== Status ==<br>Memory usage on this node: 6.1/15.6 GiB<br>Using AsyncHyperBand: num_stopped=0\nBracket: Iter 64.000: None | Iter 16.000: None | Iter 4.000: 0.08 | Iter 1.000: 0.28<br>Resources requested: 0/8 CPUs, 0/1 GPUs, 0.0/8.22 GiB heap, 0.0/4.11 GiB objects (0.0/1.0 accelerator_type:GTX)<br>Result logdir: /home/braedon/ray_results/train_resnet_2021-05-14_13-09-55<br>Number of trials: 1/1 (1 TERMINATED)<br><table>\n<thead>\n<tr><th>Trial name              </th><th>status    </th><th>loc  </th><th style=\"text-align: right;\">  lr</th><th style=\"text-align: right;\">  acc</th><th style=\"text-align: right;\">  iter</th><th style=\"text-align: right;\">  total time (s)</th></tr>\n</thead>\n<tbody>\n<tr><td>train_resnet_59a9c_00000</td><td>TERMINATED</td><td>     </td><td style=\"text-align: right;\"> 0.1</td><td style=\"text-align: right;\"> 0.32</td><td style=\"text-align: right;\">    10</td><td style=\"text-align: right;\">         2995.42</td></tr>\n</tbody>\n</table><br><br>"
     },
     "metadata": {}
    },
    {
     "output_type": "stream",
     "name": "stderr",
     "text": [
      "2021-05-14 13:59:52,139\tINFO tune.py:549 -- Total run time: 2996.72 seconds (2996.59 seconds for the tuning loop).\n",
      "\u001b[2m\u001b[36m(pid=3096)\u001b[0m Got 8 / 25 correct (32.00)\n"
     ]
    }
   ],
   "source": [
    "# Add hyperparameters here for additional tuning\n",
    "# change their values to adjust the range and selection mechanism (uniform between two points, uniform from given options, iterate through all given options, etc.)\n",
    "search_space = {\n",
    "    \"lr\": tune.choice([0.1])\n",
    "}\n",
    "num_samples = 1\n",
    "\n",
    "# This is what does the hyperparameter tuning. Right now, it's set to call the train_resnet function, and it works toward maximizing the mean_accuracy. It can also minimize loss.\n",
    "analysis = tune.run(\n",
    "    train_resnet,\n",
    "    num_samples=num_samples,\n",
    "    scheduler=ASHAScheduler(metric=\"mean_accuracy\", mode=\"max\", grace_period=1),\n",
    "    config=search_space)"
   ]
  },
  {
   "cell_type": "code",
   "execution_count": null,
   "metadata": {},
   "outputs": [],
   "source": [
    "# To do (analysis)...\n",
    "\n",
    "# print(\"Best config: \", analysis.get_best_config(\n",
    "#     metric=\"mean_loss\", mode=\"min\"))\n",
    "\n",
    "# # Get a dataframe for analyzing trial results.\n",
    "# df = analysis.results_df"
   ]
  }
 ],
 "metadata": {
  "kernelspec": {
   "display_name": "Python 3",
   "language": "python",
   "name": "python3"
  },
  "language_info": {
   "codemirror_mode": {
    "name": "ipython",
    "version": 3
   },
   "file_extension": ".py",
   "mimetype": "text/x-python",
   "name": "python",
   "nbconvert_exporter": "python",
   "pygments_lexer": "ipython3",
   "version": "3.8.5"
  }
 },
 "nbformat": 4,
 "nbformat_minor": 5
}