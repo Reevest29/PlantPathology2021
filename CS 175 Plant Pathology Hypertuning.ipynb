{
 "cells": [
  {
   "cell_type": "markdown",
   "id": "cardiovascular-london",
   "metadata": {},
   "source": [
    "# Plant Pathology Hypertuning"
   ]
  },
  {
   "cell_type": "markdown",
   "id": "massive-corporation",
   "metadata": {},
   "source": [
    "### Setup"
   ]
  },
  {
   "cell_type": "code",
   "execution_count": 4,
   "id": "acknowledged-slave",
   "metadata": {},
   "outputs": [
    {
     "output_type": "stream",
     "name": "stderr",
     "text": [
      "/home/braedon/.local/lib/python3.8/site-packages/skimage/io/manage_plugins.py:23: UserWarning: Your installed pillow version is < 7.1.0. Several security issues (CVE-2020-11538, CVE-2020-10379, CVE-2020-10994, CVE-2020-10177) have been fixed in pillow 7.1.0 or higher. We recommend to upgrade this library.\n  from .collection import imread_collection_wrapper\n"
     ]
    }
   ],
   "source": [
    "import torch\n",
    "import torch.nn as nn\n",
    "import torch.optim as optim\n",
    "import torchvision.models as models\n",
    "from torch.autograd import Variable\n",
    "from torch.utils.data import DataLoader\n",
    "from torch.utils.data import sampler\n",
    "\n",
    "# import torchvision.datasets as dset\n",
    "import torchvision.transforms as T\n",
    "\n",
    "import numpy as np\n",
    "\n",
    "import timeit\n",
    "import copy\n",
    "\n",
    "from utils import utils, learner\n",
    "from utils import PlantPathologyDataset as dataset\n",
    "\n",
    "from ray import tune\n",
    "from ray.tune import CLIReporter\n",
    "from ray.tune.schedulers import ASHAScheduler"
   ]
  },
  {
   "cell_type": "code",
   "execution_count": 5,
   "id": "exclusive-thailand",
   "metadata": {},
   "outputs": [],
   "source": [
    "print_every = 100\n",
    "assert(torch.cuda.is_available())\n",
    "gpu_dtype = torch.cuda.FloatTensor"
   ]
  },
  {
   "cell_type": "code",
   "execution_count": 6,
   "id": "consecutive-spanish",
   "metadata": {},
   "outputs": [],
   "source": [
    "NUM_TRAIN = 75\n",
    "NUM_VAL = 25\n",
    "thomas = False\n",
    "\n",
    "if thomas:\n",
    "    csv_file='C:\\\\Users\\\\tjtom\\PycharmProjects\\PlantPathology2021\\\\train.csv'\n",
    "    root_dir='C:\\\\Users\\\\tjtom\\PycharmProjects\\PlantPathology2021\\\\train_images'\n",
    "    mappings_dir='C:\\\\Users\\\\tjtom\\PycharmProjects\\PlantPathology2021\\\\labelMappings.csv'\n",
    "else:\n",
    "    csv_file='./train.csv'\n",
    "    root_dir='./train_images'\n",
    "    mappings_dir='./labelMappings.csv'\n",
    "\n",
    "plant_dataset = dataset.PlantPathologyDataset(csv_file=csv_file,\n",
    "                                              root_dir=root_dir,\n",
    "                                              mappings_dir=mappings_dir)\n",
    "train_data = DataLoader(plant_dataset, batch_size=10, sampler= learner.ChunkSampler(NUM_TRAIN, 0))\n",
    "validation_data = DataLoader(plant_dataset, batch_size=10, sampler=learner.ChunkSampler(NUM_VAL, NUM_TRAIN))"
   ]
  },
  {
   "cell_type": "markdown",
   "id": "demanding-accused",
   "metadata": {},
   "source": [
    "### Testing resnet50"
   ]
  },
  {
   "cell_type": "code",
   "execution_count": 7,
   "id": "textile-stylus",
   "metadata": {},
   "outputs": [],
   "source": [
    "resnet50 = models.resnet50()#.cuda() # pretrained=True is pretrained on ImageNet\n",
    "\n",
    "loss_fn = nn.CrossEntropyLoss().type(gpu_dtype)\n",
    "optimizer = optim.RMSprop(resnet50.parameters(), lr=1e-3)"
   ]
  },
  {
   "cell_type": "code",
   "execution_count": 9,
   "id": "precious-raleigh",
   "metadata": {},
   "outputs": [
    {
     "output_type": "stream",
     "name": "stdout",
     "text": [
      "Starting epoch 1 / 1\n",
      "torch.Size([10, 3, 400, 267]) tensor([ 3, 11,  9,  9,  0,  3,  6,  3,  0,  3])\n",
      "torch.Size([10, 3, 400, 267]) tensor([0, 9, 3, 9, 1, 9, 9, 9, 3, 9])\n",
      "torch.Size([10, 3, 400, 267]) tensor([4, 6, 9, 9, 3, 9, 6, 3, 0, 9])\n",
      "torch.Size([10, 3, 400, 267]) tensor([3, 1, 9, 6, 9, 3, 3, 0, 0, 4])\n",
      "torch.Size([10, 3, 400, 267]) tensor([ 3,  9, 11,  1,  4,  9,  3,  1,  1,  4])\n",
      "t = 5, loss = 14.6753\n",
      "torch.Size([10, 3, 400, 267]) tensor([10,  9,  3,  9,  6,  1,  1,  0,  3,  1])\n",
      "torch.Size([10, 3, 400, 267]) tensor([9, 9, 2, 3, 1, 9, 1, 6, 4, 9])\n",
      "torch.Size([5, 3, 400, 267]) tensor([9, 6, 9, 0, 9])\n",
      "Checking accuracy on validation set\n",
      "Got 1 / 25 correct (4.00)\n"
     ]
    },
    {
     "output_type": "execute_result",
     "data": {
      "text/plain": [
       "0.04"
      ]
     },
     "metadata": {},
     "execution_count": 9
    }
   ],
   "source": [
    "learner.train(resnet50, train_data, loss_fn, optimizer, print_every=5)\n",
    "learner.check_accuracy(resnet50, validation_data)"
   ]
  },
  {
   "cell_type": "code",
   "execution_count": 10,
   "metadata": {},
   "outputs": [],
   "source": [
    "### Hypertuning"
   ]
  }
 ],
 "metadata": {
  "kernelspec": {
   "display_name": "Python 3",
   "language": "python",
   "name": "python3"
  },
  "language_info": {
   "codemirror_mode": {
    "name": "ipython",
    "version": 3
   },
   "file_extension": ".py",
   "mimetype": "text/x-python",
   "name": "python",
   "nbconvert_exporter": "python",
   "pygments_lexer": "ipython3",
   "version": "3.8.5"
  }
 },
 "nbformat": 4,
 "nbformat_minor": 5
}