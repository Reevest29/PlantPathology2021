{
 "cells": [
  {
   "cell_type": "code",
   "execution_count": 1,
   "metadata": {},
   "outputs": [],
   "source": [
    "import numpy as np\n",
    "\n",
    "from utils import utils\n",
    "from PIL import Image\n",
    "import os\n",
    "import csv\n",
    "#filenames,labels = utils.getXSamples(18632)\n",
    "ROOT_DIR = '''C:\\\\Users\\\\tjtom\\PycharmProjects\\PlantPathology2021'''\n",
    "\n",
    "#print(filenames.shape,labels.shape)"
   ]
  },
  {
   "cell_type": "code",
   "execution_count": 2,
   "outputs": [
    {
     "name": "stdout",
     "output_type": "stream",
     "text": [
      "complex 0\n",
      "frog_eye_leaf_spot 1\n",
      "frog_eye_leaf_spot complex 2\n",
      "healthy 3\n",
      "powdery_mildew 4\n",
      "powdery_mildew complex 5\n",
      "rust 6\n",
      "rust complex 7\n",
      "rust frog_eye_leaf_spot 8\n",
      "scab 9\n",
      "scab frog_eye_leaf_spot 10\n",
      "scab frog_eye_leaf_spot complex 11\n"
     ]
    }
   ],
   "source": [
    "train_csv = os.path.join(ROOT_DIR,\"train.csv\")\n",
    "reader = csv.DictReader(open(train_csv)) # read all labels from train.csv\n",
    "labels = {}\n",
    "\n",
    "for row in reader:                          # convert to dictionary key = filename, value = label\n",
    "    labels[row['image']] = row['labels']\n",
    "\n",
    "unique = np.unique(list(labels.values()))\n",
    "with open(\"labelMappings.csv\", mode = 'w') as file:\n",
    "    file = csv.writer(file, delimiter=',')\n",
    "    file.writerow(['Class', 'Value'])\n",
    "    for i in range(len(unique)):\n",
    "        file.writerow([unique[i],i])\n",
    "\n",
    "mappings = {}\n",
    "reader = csv.DictReader(open(\"labelMappings.csv\")) # read all labels from train.csv\n",
    "\n",
    "for row in reader:\n",
    "    mappings[row['Class']] = int(row['Value'])\n",
    "for k,v in mappings.items():\n",
    "    print(k,v)"
   ],
   "metadata": {
    "collapsed": false,
    "pycharm": {
     "name": "#%%\n"
    }
   }
  },
  {
   "cell_type": "code",
   "execution_count": 10,
   "outputs": [
    {
     "name": "stdout",
     "output_type": "stream",
     "text": [
      "(10, 3, 4000, 2672)\n"
     ]
    }
   ],
   "source": [
    "np.save(\"testSave.npy\", filenames,)\n",
    "new_x = np.load(\"testSave.npy\",allow_pickle=True)\n",
    "print(new_x.shape)"
   ],
   "metadata": {
    "collapsed": false,
    "pycharm": {
     "name": "#%%\n"
    }
   }
  },
  {
   "cell_type": "code",
   "execution_count": 20,
   "outputs": [
    {
     "name": "stdout",
     "output_type": "stream",
     "text": [
      "(array([2592, 4000]), array([1, 9], dtype=int64)) (array([1728, 2672]), array([1, 9], dtype=int64))\n"
     ]
    }
   ],
   "source": [
    "# Most Common Image Sizes Experiment\n",
    "images = []\n",
    "\n",
    "h , w = [],[]\n",
    "for i in filenames:\n",
    "    im = Image.open(\"train_images/\"+i)\n",
    "    w.append(im.size[0])\n",
    "    h.append(im.size[1])\n",
    "    im.close()\n",
    "min_width = np.unique(w,return_counts=True)\n",
    "min_height = np.unique(h,return_counts=True)\n",
    "\n",
    "print(min_width,min_height)\n",
    "\n"
   ],
   "metadata": {
    "collapsed": false,
    "pycharm": {
     "name": "#%%\n"
    }
   }
  },
  {
   "cell_type": "code",
   "execution_count": 23,
   "outputs": [
    {
     "name": "stdout",
     "output_type": "stream",
     "text": [
      "(10, 3, 4000, 2672)\n"
     ]
    }
   ],
   "source": [
    "X = []\n",
    "for i in range(len(filenames)):\n",
    "    im = Image.open(\"train_images/\"+filenames[i])\n",
    "    im = im.resize((2672, 4000))\n",
    "    a = np.array(im)\n",
    "\n",
    "    r = a[:,:,0]\n",
    "    g = a[:,:,1]\n",
    "    b = a[:,:,2]\n",
    "\n",
    "\n",
    "    X.append(np.asarray([r,g,b]))\n",
    "X = np.asarray(X)\n",
    "print(X.shape)"
   ],
   "metadata": {
    "collapsed": false,
    "pycharm": {
     "name": "#%%\n"
    }
   }
  },
  {
   "cell_type": "code",
   "execution_count": null,
   "outputs": [],
   "source": [
    "print(len(labels.values()))\n"
   ],
   "metadata": {
    "collapsed": false,
    "pycharm": {
     "name": "#%%\n"
    }
   }
  },
  {
   "cell_type": "code",
   "execution_count": 1,
   "outputs": [
    {
     "ename": "NameError",
     "evalue": "name 'np' is not defined",
     "output_type": "error",
     "traceback": [
      "\u001B[1;31m---------------------------------------------------------------------------\u001B[0m",
      "\u001B[1;31mNameError\u001B[0m                                 Traceback (most recent call last)",
      "\u001B[1;32m<ipython-input-1-998f88f485c2>\u001B[0m in \u001B[0;36m<module>\u001B[1;34m\u001B[0m\n\u001B[1;32m----> 1\u001B[1;33m \u001B[0mclasses\u001B[0m\u001B[1;33m,\u001B[0m \u001B[0mcounts\u001B[0m \u001B[1;33m=\u001B[0m \u001B[1;33m(\u001B[0m\u001B[0mnp\u001B[0m\u001B[1;33m.\u001B[0m\u001B[0munique\u001B[0m\u001B[1;33m(\u001B[0m\u001B[0mlist\u001B[0m\u001B[1;33m(\u001B[0m\u001B[0mlabels\u001B[0m\u001B[1;33m.\u001B[0m\u001B[0mvalues\u001B[0m\u001B[1;33m(\u001B[0m\u001B[1;33m)\u001B[0m\u001B[1;33m)\u001B[0m\u001B[1;33m,\u001B[0m\u001B[0mreturn_counts\u001B[0m\u001B[1;33m=\u001B[0m\u001B[1;32mTrue\u001B[0m\u001B[1;33m)\u001B[0m\u001B[1;33m)\u001B[0m\u001B[1;33m\u001B[0m\u001B[1;33m\u001B[0m\u001B[0m\n\u001B[0m\u001B[0;32m      2\u001B[0m \u001B[0mprint\u001B[0m\u001B[1;33m(\u001B[0m\u001B[1;34m\"Class Name: number of occurences\"\u001B[0m\u001B[1;33m)\u001B[0m\u001B[1;33m\u001B[0m\u001B[1;33m\u001B[0m\u001B[0m\n\u001B[0;32m      3\u001B[0m \u001B[1;32mfor\u001B[0m \u001B[0mi\u001B[0m \u001B[1;32min\u001B[0m \u001B[0mrange\u001B[0m\u001B[1;33m(\u001B[0m\u001B[0mlen\u001B[0m\u001B[1;33m(\u001B[0m\u001B[0mclasses\u001B[0m\u001B[1;33m)\u001B[0m\u001B[1;33m)\u001B[0m\u001B[1;33m:\u001B[0m\u001B[1;33m\u001B[0m\u001B[1;33m\u001B[0m\u001B[0m\n\u001B[0;32m      4\u001B[0m     \u001B[0mprint\u001B[0m\u001B[1;33m(\u001B[0m\u001B[0mclasses\u001B[0m\u001B[1;33m[\u001B[0m\u001B[0mi\u001B[0m\u001B[1;33m]\u001B[0m\u001B[1;33m,\u001B[0m\u001B[1;34m\": \"\u001B[0m\u001B[1;33m,\u001B[0m\u001B[0mcounts\u001B[0m\u001B[1;33m[\u001B[0m\u001B[0mi\u001B[0m\u001B[1;33m]\u001B[0m \u001B[1;33m)\u001B[0m\u001B[1;33m\u001B[0m\u001B[1;33m\u001B[0m\u001B[0m\n\u001B[0;32m      5\u001B[0m \u001B[0mprint\u001B[0m\u001B[1;33m(\u001B[0m\u001B[1;34m\"Number of Classes\"\u001B[0m\u001B[1;33m,\u001B[0m\u001B[0mlen\u001B[0m\u001B[1;33m(\u001B[0m\u001B[0mclasses\u001B[0m\u001B[1;33m)\u001B[0m\u001B[1;33m)\u001B[0m\u001B[1;33m\u001B[0m\u001B[1;33m\u001B[0m\u001B[0m\n",
      "\u001B[1;31mNameError\u001B[0m: name 'np' is not defined"
     ]
    }
   ],
   "source": [
    "import pandas as pd\n",
    "\n",
    "classes, counts = (np.unique(list(labels.values()),return_counts=True))\n",
    "print(\"Class Name: number of occurences\")\n",
    "for i in range(len(classes)):\n",
    "    print(classes[i],\": \",counts[i] )\n",
    "print(\"Number of Classes\",len(classes))\n",
    "\n"
   ],
   "metadata": {
    "collapsed": false,
    "pycharm": {
     "name": "#%%\n"
    }
   }
  }
 ],
 "metadata": {
  "kernelspec": {
   "display_name": "Python 3",
   "language": "python",
   "name": "python3"
  },
  "language_info": {
   "codemirror_mode": {
    "name": "ipython",
    "version": 3
   },
   "file_extension": ".py",
   "mimetype": "text/x-python",
   "name": "python",
   "nbconvert_exporter": "python",
   "pygments_lexer": "ipython3",
   "version": "3.8.5"
  }
 },
 "nbformat": 4,
 "nbformat_minor": 4
}